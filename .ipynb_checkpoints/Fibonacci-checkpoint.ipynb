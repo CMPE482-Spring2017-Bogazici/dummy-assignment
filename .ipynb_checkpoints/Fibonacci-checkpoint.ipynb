{
 "cells": [
  {
   "cell_type": "markdown",
   "metadata": {},
   "source": [
    "# Fibonacci Numbers [[1]](https://en.wikipedia.org/wiki/Fibonacci_number)"
   ]
  },
  {
   "cell_type": "markdown",
   "metadata": {},
   "source": [
    "In mathematics, the Fibonacci numbers are the numbers in the following integer sequence, called the Fibonacci sequence, and characterized by the fact that every number after the first two is the sum of the two preceding ones:\n",
    "\n",
    "$$ 0, 1, 1, 2, 3, 5, 8, 13, 21, 34, 55, 89, 144, \\cdots$$"
   ]
  },
  {
   "cell_type": "markdown",
   "metadata": {},
   "source": [
    "In mathematical terms, the sequence $F_n$ of Fibonacci numbers is defined by the recurrence relation:\n",
    "\n",
    "$$ F_{n}=F_{n-1}+F_{n-2} $$\n",
    "\n",
    "with seed values:\n",
    "$$ F_0 = 0 , F_1 = 1 $$\n",
    "\n"
   ]
  },
  {
   "cell_type": "markdown",
   "metadata": {},
   "source": [
    "In matrix notation this definition is equivalent to:\n",
    "\n",
    "\\begin{eqnarray}\n",
    "    \\begin{bmatrix}\n",
    "    F_1 \\\\\n",
    "    F_0\n",
    "    \\end{bmatrix}\n",
    "    & = &\n",
    "    \\begin{bmatrix}\n",
    "    1 \\\\\n",
    "    0\n",
    "    \\end{bmatrix} \\\\\n",
    "    \\begin{bmatrix}\n",
    "    F_{n+1} \\\\\n",
    "    F_n\n",
    "    \\end{bmatrix}\n",
    "    & = &\n",
    "    \\begin{bmatrix}\n",
    "    1 & 1 \\\\\n",
    "    1 & 0\n",
    "    \\end{bmatrix}\n",
    "    \\begin{bmatrix}\n",
    "    F_n \\\\\n",
    "    F_{n-1}\n",
    "    \\end{bmatrix}\n",
    "\\end{eqnarray}"
   ]
  },
  {
   "cell_type": "markdown",
   "metadata": {},
   "source": [
    "If we want to compute only the $n^{th}$ Fibonacci number, then the following identity is useful:\n",
    "\n",
    "\\begin{equation}\n",
    "    \\begin{bmatrix}\n",
    "    F_{n} \\\\\n",
    "    F_{n-1}\n",
    "    \\end{bmatrix} =\n",
    "    \\begin{bmatrix}\n",
    "    1 & 1 \\\\\n",
    "    1 & 0\n",
    "    \\end{bmatrix}^{n-1}\n",
    "    \\begin{bmatrix}\n",
    "    F_1 \\\\\n",
    "    F_0\n",
    "    \\end{bmatrix}\n",
    "\\end{equation}\n",
    "\n",
    "By using matrix exponentiation (for instance, calculating $M^8$ as $((M^2)^2)^2$ ), $F_{n}$ can be calculated in $O(log(n))$ time complexity. This algorithm is sometimes called **fast fibonacci transform**."
   ]
  },
  {
   "cell_type": "markdown",
   "metadata": {},
   "source": [
    "**Follow the instructions in the next sections. Feel free to create extra cells (for instance, you can try different values for $F_1$ and $F_0$).**"
   ]
  },
  {
   "cell_type": "markdown",
   "metadata": {},
   "source": [
    "### 1. Fast Fibonacci Transform Implementation"
   ]
  },
  {
   "cell_type": "markdown",
   "metadata": {},
   "source": [
    "Implement a function that returns $F_n$ as we described above (for this assignment we are not concerned about the efficiency of your implementation, i.e. you can use $M^n$ assuming octave does matrix exponentiation for you):"
   ]
  },
  {
   "cell_type": "code",
   "execution_count": 1,
   "metadata": {
    "collapsed": false
   },
   "outputs": [],
   "source": [
    "\n",
    "function f = fibonacci(n,f_0,f_1)\n",
    "    a = [f_1;f_0];\n",
    "    f =([1 1; 1 0]^(n-1))*a;\n",
    "endfunction        "
   ]
  },
  {
   "cell_type": "markdown",
   "metadata": {},
   "source": [
    "### 2. Plot $F_{n+1} / F_n$ ratio"
   ]
  },
  {
   "cell_type": "markdown",
   "metadata": {},
   "source": [
    "Initialize $F_0 = 0$ and $F_1 = 1$, then plot the $\\dfrac{F_{n+1}}{F_{n}}$ values for $ 1 \\leq n \\leq 100$. As $n \\to \\infty$, we expect $\\dfrac{F_{n+1}}{F_{n}} \\to \\dfrac{\\sqrt{5}+1}{2}$. "
   ]
  },
  {
   "cell_type": "code",
   "execution_count": 2,
   "metadata": {
    "collapsed": false
   },
   "outputs": [
    {
     "data": {
      "image/svg+xml": [
       "<svg height=\"420px\" viewBox=\"0 0 560 420\" width=\"560px\" xmlns=\"http://www.w3.org/2000/svg\" xmlns:xlink=\"http://www.w3.org/1999/xlink\">\n",
       "\n",
       "<title>Gnuplot</title>\n",
       "<desc>Produced by GNUPLOT 4.6 patchlevel 4 </desc>\n",
       "\n",
       "<g id=\"gnuplot_canvas\">\n",
       "\n",
       "<rect fill=\"none\" height=\"420\" width=\"560\" x=\"0\" y=\"0\"/>\n",
       "<defs>\n",
       "\n",
       "\t<circle id=\"gpDot\" r=\"0.5\" stroke-width=\"0.5\"/>\n",
       "\t<path d=\"M-1,0 h2 M0,-1 v2\" id=\"gpPt0\" stroke=\"currentColor\" stroke-width=\"0.333\"/>\n",
       "\t<path d=\"M-1,-1 L1,1 M1,-1 L-1,1\" id=\"gpPt1\" stroke=\"currentColor\" stroke-width=\"0.333\"/>\n",
       "\t<path d=\"M-1,0 L1,0 M0,-1 L0,1 M-1,-1 L1,1 M-1,1 L1,-1\" id=\"gpPt2\" stroke=\"currentColor\" stroke-width=\"0.333\"/>\n",
       "\t<rect height=\"2\" id=\"gpPt3\" stroke=\"currentColor\" stroke-width=\"0.333\" width=\"2\" x=\"-1\" y=\"-1\"/>\n",
       "\t<rect fill=\"currentColor\" height=\"2\" id=\"gpPt4\" stroke=\"currentColor\" stroke-width=\"0.333\" width=\"2\" x=\"-1\" y=\"-1\"/>\n",
       "\t<circle cx=\"0\" cy=\"0\" id=\"gpPt5\" r=\"1\" stroke=\"currentColor\" stroke-width=\"0.333\"/>\n",
       "\t<use fill=\"currentColor\" id=\"gpPt6\" stroke=\"none\" xlink:href=\"#gpPt5\"/>\n",
       "\t<path d=\"M0,-1.33 L-1.33,0.67 L1.33,0.67 z\" id=\"gpPt7\" stroke=\"currentColor\" stroke-width=\"0.333\"/>\n",
       "\t<use fill=\"currentColor\" id=\"gpPt8\" stroke=\"none\" xlink:href=\"#gpPt7\"/>\n",
       "\t<use id=\"gpPt9\" stroke=\"currentColor\" transform=\"rotate(180)\" xlink:href=\"#gpPt7\"/>\n",
       "\t<use fill=\"currentColor\" id=\"gpPt10\" stroke=\"none\" xlink:href=\"#gpPt9\"/>\n",
       "\t<use id=\"gpPt11\" stroke=\"currentColor\" transform=\"rotate(45)\" xlink:href=\"#gpPt3\"/>\n",
       "\t<use fill=\"currentColor\" id=\"gpPt12\" stroke=\"none\" xlink:href=\"#gpPt11\"/>\n",
       "</defs>\n",
       "<g style=\"fill:none; color:white; stroke:currentColor; stroke-width:1.00; stroke-linecap:butt; stroke-linejoin:miter\">\n",
       "</g>\n",
       "<g style=\"fill:none; color:black; stroke:currentColor; stroke-width:1.00; stroke-linecap:butt; stroke-linejoin:miter\">\n",
       "\t<g style=\"stroke:none; shape-rendering:crispEdges\">\n",
       "\t\t<polygon fill=\"rgb(255, 255, 255)\" points=\"30.8,396.0 543.0,396.0 543.0,11.4 30.8,11.4 \"/>\n",
       "\t</g>\n",
       "\t<path d=\"M30.8,396.0 L30.8,11.4 L543.0,11.4 L543.0,396.0 L30.8,396.0  h0.01\" stroke=\"black\"/></g>\n",
       "<g style=\"fill:none; color:black; stroke:black; stroke-width:0.50; stroke-linecap:butt; stroke-linejoin:miter\">\n",
       "\t<path d=\"M30.8,396.0 L39.2,396.0 M543.1,396.0 L534.7,396.0  h0.01\" stroke=\"black\"/>\t<g style=\"stroke:none; fill:rgb(0,0,0); font-family:{}; font-size:10.00pt; text-anchor:end\" transform=\"translate(25.2,399.7)\">\n",
       "\t\t<text><tspan>1</tspan></text>\n",
       "\t</g>\n",
       "\t<path d=\"M30.8,319.1 L39.2,319.1 M543.1,319.1 L534.7,319.1  h0.01\" stroke=\"black\"/>\t<g style=\"stroke:none; fill:rgb(0,0,0); font-family:{}; font-size:10.00pt; text-anchor:end\" transform=\"translate(25.2,322.8)\">\n",
       "\t\t<text><tspan>1.2</tspan></text>\n",
       "\t</g>\n",
       "\t<path d=\"M30.8,242.1 L39.2,242.1 M543.1,242.1 L534.7,242.1  h0.01\" stroke=\"black\"/>\t<g style=\"stroke:none; fill:rgb(0,0,0); font-family:{}; font-size:10.00pt; text-anchor:end\" transform=\"translate(25.2,245.8)\">\n",
       "\t\t<text><tspan>1.4</tspan></text>\n",
       "\t</g>\n",
       "\t<path d=\"M30.8,165.2 L39.2,165.2 M543.1,165.2 L534.7,165.2  h0.01\" stroke=\"black\"/>\t<g style=\"stroke:none; fill:rgb(0,0,0); font-family:{}; font-size:10.00pt; text-anchor:end\" transform=\"translate(25.2,168.9)\">\n",
       "\t\t<text><tspan>1.6</tspan></text>\n",
       "\t</g>\n",
       "\t<path d=\"M30.8,88.2 L39.2,88.2 M543.1,88.2 L534.7,88.2  h0.01\" stroke=\"black\"/>\t<g style=\"stroke:none; fill:rgb(0,0,0); font-family:{}; font-size:10.00pt; text-anchor:end\" transform=\"translate(25.2,91.9)\">\n",
       "\t\t<text><tspan>1.8</tspan></text>\n",
       "\t</g>\n",
       "\t<path d=\"M30.8,11.3 L39.2,11.3 M543.1,11.3 L534.7,11.3  h0.01\" stroke=\"black\"/>\t<g style=\"stroke:none; fill:rgb(0,0,0); font-family:{}; font-size:10.00pt; text-anchor:end\" transform=\"translate(25.2,15.0)\">\n",
       "\t\t<text><tspan>2</tspan></text>\n",
       "\t</g>\n",
       "\t<path d=\"M30.8,396.0 L30.8,387.6 M30.8,11.3 L30.8,19.7  h0.01\" stroke=\"black\"/>\t<g style=\"stroke:none; fill:rgb(0,0,0); font-family:{}; font-size:10.00pt; text-anchor:middle\" transform=\"translate(30.8,411.7)\">\n",
       "\t\t<text><tspan>0</tspan></text>\n",
       "\t</g>\n",
       "\t<path d=\"M133.3,396.0 L133.3,387.6 M133.3,11.3 L133.3,19.7  h0.01\" stroke=\"black\"/>\t<g style=\"stroke:none; fill:rgb(0,0,0); font-family:{}; font-size:10.00pt; text-anchor:middle\" transform=\"translate(133.3,411.7)\">\n",
       "\t\t<text><tspan>20</tspan></text>\n",
       "\t</g>\n",
       "\t<path d=\"M235.7,396.0 L235.7,387.6 M235.7,11.3 L235.7,19.7  h0.01\" stroke=\"black\"/>\t<g style=\"stroke:none; fill:rgb(0,0,0); font-family:{}; font-size:10.00pt; text-anchor:middle\" transform=\"translate(235.7,411.7)\">\n",
       "\t\t<text><tspan>40</tspan></text>\n",
       "\t</g>\n",
       "\t<path d=\"M338.2,396.0 L338.2,387.6 M338.2,11.3 L338.2,19.7  h0.01\" stroke=\"black\"/>\t<g style=\"stroke:none; fill:rgb(0,0,0); font-family:{}; font-size:10.00pt; text-anchor:middle\" transform=\"translate(338.2,411.7)\">\n",
       "\t\t<text><tspan>60</tspan></text>\n",
       "\t</g>\n",
       "\t<path d=\"M440.6,396.0 L440.6,387.6 M440.6,11.3 L440.6,19.7  h0.01\" stroke=\"black\"/>\t<g style=\"stroke:none; fill:rgb(0,0,0); font-family:{}; font-size:10.00pt; text-anchor:middle\" transform=\"translate(440.6,411.7)\">\n",
       "\t\t<text><tspan>80</tspan></text>\n",
       "\t</g>\n",
       "\t<path d=\"M543.1,396.0 L543.1,387.6 M543.1,11.3 L543.1,19.7  h0.01\" stroke=\"black\"/>\t<g style=\"stroke:none; fill:rgb(0,0,0); font-family:{}; font-size:10.00pt; text-anchor:middle\" transform=\"translate(543.1,411.7)\">\n",
       "\t\t<text><tspan>100</tspan></text>\n",
       "\t</g>\n",
       "\t<path d=\"M30.8,11.3 L30.8,396.0 L543.1,396.0 L543.1,11.3 L30.8,11.3 Z  h0.01\" stroke=\"black\"/></g>\n",
       "\t<g id=\"gnuplot_plot_1a\"><title>gnuplot_plot_1a</title>\n",
       "<g style=\"fill:none; color:red; stroke:currentColor; stroke-width:0.50; stroke-linecap:butt; stroke-linejoin:miter\">\n",
       "\t<path d=\"M35.9,396.0 L41.0,11.3 L46.2,203.6 L51.3,139.5 L56.4,165.2 L61.5,155.6 L66.7,159.3 L71.8,157.9    L76.9,158.4 L82.0,158.2 L87.2,158.3 L92.3,158.2 L97.4,158.2 L102.5,158.2 L107.6,158.2 L112.8,158.2    L117.9,158.2 L123.0,158.2 L128.1,158.2 L133.3,158.2 L138.4,158.2 L143.5,158.2 L148.6,158.2 L153.8,158.2    L158.9,158.2 L164.0,158.2 L169.1,158.2 L174.2,158.2 L179.4,158.2 L184.5,158.2 L189.6,158.2 L194.7,158.2    L199.9,158.2 L205.0,158.2 L210.1,158.2 L215.2,158.2 L220.4,158.2 L225.5,158.2 L230.6,158.2 L235.7,158.2    L240.8,158.2 L246.0,158.2 L251.1,158.2 L256.2,158.2 L261.3,158.2 L266.5,158.2 L271.6,158.2 L276.7,158.2    L281.8,158.2 L287.0,158.2 L292.1,158.2 L297.2,158.2 L302.3,158.2 L307.4,158.2 L312.6,158.2 L317.7,158.2    L322.8,158.2 L327.9,158.2 L333.1,158.2 L338.2,158.2 L343.3,158.2 L348.4,158.2 L353.5,158.2 L358.7,158.2    L363.8,158.2 L368.9,158.2 L374.0,158.2 L379.2,158.2 L384.3,158.2 L389.4,158.2 L394.5,158.2 L399.7,158.2    L404.8,158.2 L409.9,158.2 L415.0,158.2 L420.1,158.2 L425.3,158.2 L430.4,158.2 L435.5,158.2 L440.6,158.2    L445.8,158.2 L450.9,158.2 L456.0,158.2 L461.1,158.2 L466.3,158.2 L471.4,158.2 L476.5,158.2 L481.6,158.2    L486.7,158.2 L491.9,158.2 L497.0,158.2 L502.1,158.2 L507.2,158.2 L512.4,158.2 L517.5,158.2 L522.6,158.2    L527.7,158.2 L532.9,158.2 L538.0,158.2 L543.1,158.2  h0.01\" stroke=\"rgb(  0,   0, 255)\"/></g>\n",
       "\t</g>\n",
       "<g style=\"fill:none; color:black; stroke:currentColor; stroke-width:0.50; stroke-linecap:butt; stroke-linejoin:miter\">\n",
       "</g>\n",
       "</g>\n",
       "</svg>"
      ],
      "text/plain": [
       "<IPython.core.display.SVG object>"
      ]
     },
     "metadata": {},
     "output_type": "display_data"
    }
   ],
   "source": [
    "x = 1:100;\n",
    "for n= 1:100\n",
    "result = fibonacci(n+1,0,1);\n",
    "x(n) = result(1)/result(2);\n",
    "end\n",
    "plot(x)"
   ]
  },
  {
   "cell_type": "markdown",
   "metadata": {},
   "source": [
    "### 3. Plot $F_{n+1} / F_n$ ratio starting with $F_0 = 2$ and $F_1 = 1 - \\sqrt{5}$"
   ]
  },
  {
   "cell_type": "markdown",
   "metadata": {},
   "source": [
    "Initialize $F_0 = 2$ and $F_1 = F_1 = 1 - \\sqrt{5}$, then plot the $\\dfrac{F_{n+1}}{F_{n}}$ values for $ 1 \\leq n \\leq 100$. If we would represent $\\sqrt{5}$ exactly in our floating point arithmetic, then as $n \\to \\infty$, we expect  $\\dfrac{F_{n+1}}{F_{n}} \\to \\dfrac{1 - \\sqrt{5}}{2}$, but for the very large values of $n$, this ratio unexpectedly converges to $\\dfrac{\\sqrt{5} + 1}{2}$."
   ]
  },
  {
   "cell_type": "code",
   "execution_count": 4,
   "metadata": {
    "collapsed": false
   },
   "outputs": [
    {
     "name": "stdout",
     "output_type": "stream",
     "text": [
      "a =\n",
      "\n",
      "  -1.2361\n",
      "   2.0000\n",
      "\n"
     ]
    },
    {
     "data": {
      "image/svg+xml": [
       "<svg height=\"420px\" viewBox=\"0 0 560 420\" width=\"560px\" xmlns=\"http://www.w3.org/2000/svg\" xmlns:xlink=\"http://www.w3.org/1999/xlink\">\n",
       "\n",
       "<title>Gnuplot</title>\n",
       "<desc>Produced by GNUPLOT 4.6 patchlevel 4 </desc>\n",
       "\n",
       "<g id=\"gnuplot_canvas\">\n",
       "\n",
       "<rect fill=\"none\" height=\"420\" width=\"560\" x=\"0\" y=\"0\"/>\n",
       "<defs>\n",
       "\n",
       "\t<circle id=\"gpDot\" r=\"0.5\" stroke-width=\"0.5\"/>\n",
       "\t<path d=\"M-1,0 h2 M0,-1 v2\" id=\"gpPt0\" stroke=\"currentColor\" stroke-width=\"0.333\"/>\n",
       "\t<path d=\"M-1,-1 L1,1 M1,-1 L-1,1\" id=\"gpPt1\" stroke=\"currentColor\" stroke-width=\"0.333\"/>\n",
       "\t<path d=\"M-1,0 L1,0 M0,-1 L0,1 M-1,-1 L1,1 M-1,1 L1,-1\" id=\"gpPt2\" stroke=\"currentColor\" stroke-width=\"0.333\"/>\n",
       "\t<rect height=\"2\" id=\"gpPt3\" stroke=\"currentColor\" stroke-width=\"0.333\" width=\"2\" x=\"-1\" y=\"-1\"/>\n",
       "\t<rect fill=\"currentColor\" height=\"2\" id=\"gpPt4\" stroke=\"currentColor\" stroke-width=\"0.333\" width=\"2\" x=\"-1\" y=\"-1\"/>\n",
       "\t<circle cx=\"0\" cy=\"0\" id=\"gpPt5\" r=\"1\" stroke=\"currentColor\" stroke-width=\"0.333\"/>\n",
       "\t<use fill=\"currentColor\" id=\"gpPt6\" stroke=\"none\" xlink:href=\"#gpPt5\"/>\n",
       "\t<path d=\"M0,-1.33 L-1.33,0.67 L1.33,0.67 z\" id=\"gpPt7\" stroke=\"currentColor\" stroke-width=\"0.333\"/>\n",
       "\t<use fill=\"currentColor\" id=\"gpPt8\" stroke=\"none\" xlink:href=\"#gpPt7\"/>\n",
       "\t<use id=\"gpPt9\" stroke=\"currentColor\" transform=\"rotate(180)\" xlink:href=\"#gpPt7\"/>\n",
       "\t<use fill=\"currentColor\" id=\"gpPt10\" stroke=\"none\" xlink:href=\"#gpPt9\"/>\n",
       "\t<use id=\"gpPt11\" stroke=\"currentColor\" transform=\"rotate(45)\" xlink:href=\"#gpPt3\"/>\n",
       "\t<use fill=\"currentColor\" id=\"gpPt12\" stroke=\"none\" xlink:href=\"#gpPt11\"/>\n",
       "</defs>\n",
       "<g style=\"fill:none; color:white; stroke:currentColor; stroke-width:1.00; stroke-linecap:butt; stroke-linejoin:miter\">\n",
       "</g>\n",
       "<g style=\"fill:none; color:black; stroke:currentColor; stroke-width:1.00; stroke-linecap:butt; stroke-linejoin:miter\">\n",
       "\t<g style=\"stroke:none; shape-rendering:crispEdges\">\n",
       "\t\t<polygon fill=\"rgb(255, 255, 255)\" points=\"25.2,396.0 543.0,396.0 543.0,11.4 25.2,11.4 \"/>\n",
       "\t</g>\n",
       "\t<path d=\"M25.2,396.0 L25.2,11.4 L543.0,11.4 L543.0,396.0 L25.2,396.0  h0.01\" stroke=\"black\"/></g>\n",
       "<g style=\"fill:none; color:black; stroke:black; stroke-width:0.50; stroke-linecap:butt; stroke-linejoin:miter\">\n",
       "\t<path d=\"M25.2,396.0 L33.6,396.0 M543.1,396.0 L534.7,396.0  h0.01\" stroke=\"black\"/>\t<g style=\"stroke:none; fill:rgb(0,0,0); font-family:{}; font-size:10.00pt; text-anchor:end\" transform=\"translate(19.6,399.7)\">\n",
       "\t\t<text><tspan>-2</tspan></text>\n",
       "\t</g>\n",
       "\t<path d=\"M25.2,331.9 L33.6,331.9 M543.1,331.9 L534.7,331.9  h0.01\" stroke=\"black\"/>\t<g style=\"stroke:none; fill:rgb(0,0,0); font-family:{}; font-size:10.00pt; text-anchor:end\" transform=\"translate(19.6,335.6)\">\n",
       "\t\t<text><tspan>0</tspan></text>\n",
       "\t</g>\n",
       "\t<path d=\"M25.2,267.8 L33.6,267.8 M543.1,267.8 L534.7,267.8  h0.01\" stroke=\"black\"/>\t<g style=\"stroke:none; fill:rgb(0,0,0); font-family:{}; font-size:10.00pt; text-anchor:end\" transform=\"translate(19.6,271.5)\">\n",
       "\t\t<text><tspan>2</tspan></text>\n",
       "\t</g>\n",
       "\t<path d=\"M25.2,203.6 L33.6,203.6 M543.1,203.6 L534.7,203.6  h0.01\" stroke=\"black\"/>\t<g style=\"stroke:none; fill:rgb(0,0,0); font-family:{}; font-size:10.00pt; text-anchor:end\" transform=\"translate(19.6,207.3)\">\n",
       "\t\t<text><tspan>4</tspan></text>\n",
       "\t</g>\n",
       "\t<path d=\"M25.2,139.5 L33.6,139.5 M543.1,139.5 L534.7,139.5  h0.01\" stroke=\"black\"/>\t<g style=\"stroke:none; fill:rgb(0,0,0); font-family:{}; font-size:10.00pt; text-anchor:end\" transform=\"translate(19.6,143.2)\">\n",
       "\t\t<text><tspan>6</tspan></text>\n",
       "\t</g>\n",
       "\t<path d=\"M25.2,75.4 L33.6,75.4 M543.1,75.4 L534.7,75.4  h0.01\" stroke=\"black\"/>\t<g style=\"stroke:none; fill:rgb(0,0,0); font-family:{}; font-size:10.00pt; text-anchor:end\" transform=\"translate(19.6,79.1)\">\n",
       "\t\t<text><tspan>8</tspan></text>\n",
       "\t</g>\n",
       "\t<path d=\"M25.2,11.3 L33.6,11.3 M543.1,11.3 L534.7,11.3  h0.01\" stroke=\"black\"/>\t<g style=\"stroke:none; fill:rgb(0,0,0); font-family:{}; font-size:10.00pt; text-anchor:end\" transform=\"translate(19.6,15.0)\">\n",
       "\t\t<text><tspan>10</tspan></text>\n",
       "\t</g>\n",
       "\t<path d=\"M25.2,396.0 L25.2,387.6 M25.2,11.3 L25.2,19.7  h0.01\" stroke=\"black\"/>\t<g style=\"stroke:none; fill:rgb(0,0,0); font-family:{}; font-size:10.00pt; text-anchor:middle\" transform=\"translate(25.2,411.7)\">\n",
       "\t\t<text><tspan>0</tspan></text>\n",
       "\t</g>\n",
       "\t<path d=\"M128.8,396.0 L128.8,387.6 M128.8,11.3 L128.8,19.7  h0.01\" stroke=\"black\"/>\t<g style=\"stroke:none; fill:rgb(0,0,0); font-family:{}; font-size:10.00pt; text-anchor:middle\" transform=\"translate(128.8,411.7)\">\n",
       "\t\t<text><tspan>20</tspan></text>\n",
       "\t</g>\n",
       "\t<path d=\"M232.4,396.0 L232.4,387.6 M232.4,11.3 L232.4,19.7  h0.01\" stroke=\"black\"/>\t<g style=\"stroke:none; fill:rgb(0,0,0); font-family:{}; font-size:10.00pt; text-anchor:middle\" transform=\"translate(232.4,411.7)\">\n",
       "\t\t<text><tspan>40</tspan></text>\n",
       "\t</g>\n",
       "\t<path d=\"M335.9,396.0 L335.9,387.6 M335.9,11.3 L335.9,19.7  h0.01\" stroke=\"black\"/>\t<g style=\"stroke:none; fill:rgb(0,0,0); font-family:{}; font-size:10.00pt; text-anchor:middle\" transform=\"translate(335.9,411.7)\">\n",
       "\t\t<text><tspan>60</tspan></text>\n",
       "\t</g>\n",
       "\t<path d=\"M439.5,396.0 L439.5,387.6 M439.5,11.3 L439.5,19.7  h0.01\" stroke=\"black\"/>\t<g style=\"stroke:none; fill:rgb(0,0,0); font-family:{}; font-size:10.00pt; text-anchor:middle\" transform=\"translate(439.5,411.7)\">\n",
       "\t\t<text><tspan>80</tspan></text>\n",
       "\t</g>\n",
       "\t<path d=\"M543.1,396.0 L543.1,387.6 M543.1,11.3 L543.1,19.7  h0.01\" stroke=\"black\"/>\t<g style=\"stroke:none; fill:rgb(0,0,0); font-family:{}; font-size:10.00pt; text-anchor:middle\" transform=\"translate(543.1,411.7)\">\n",
       "\t\t<text><tspan>100</tspan></text>\n",
       "\t</g>\n",
       "\t<path d=\"M25.2,11.3 L25.2,396.0 L543.1,396.0 L543.1,11.3 L25.2,11.3 Z  h0.01\" stroke=\"black\"/></g>\n",
       "\t<g id=\"gnuplot_plot_1a\"><title>gnuplot_plot_1a</title>\n",
       "<g style=\"fill:none; color:red; stroke:currentColor; stroke-width:0.50; stroke-linecap:butt; stroke-linejoin:miter\">\n",
       "\t<path d=\"M30.4,351.7 L35.6,351.7 L40.7,351.7 L45.9,351.7 L51.1,351.7 L56.3,351.7 L61.5,351.7 L66.6,351.7    L71.8,351.7 L77.0,351.7 L82.2,351.7 L87.3,351.7 L92.5,351.7 L97.7,351.7 L102.9,351.7 L108.1,351.7    L113.2,351.7 L118.4,351.7 L123.6,351.7 L128.8,351.7 L134.0,351.7 L139.1,351.7 L144.3,351.7 L149.5,351.7    L154.7,351.7 L159.9,351.7 L165.0,351.7 L170.2,351.7 L175.4,351.7 L180.6,351.7 L185.7,351.7 L190.9,351.7    L196.1,351.6 L201.3,352.0 L206.5,351.0 L211.6,353.7 L216.8,347.0 L222.0,368.0 L227.2,328.3 L232.4,16.5    L237.5,296.6 L242.7,270.7 L247.9,283.0 L253.1,278.8 L258.3,280.5 L263.4,279.8 L268.6,280.1 L273.8,280.0    L279.0,280.0 L284.2,280.0 L289.3,280.0 L294.5,280.0 L299.7,280.0 L304.9,280.0 L310.0,280.0 L315.2,280.0    L320.4,280.0 L325.6,280.0 L330.8,280.0 L335.9,280.0 L341.1,280.0 L346.3,280.0 L351.5,280.0 L356.7,280.0    L361.8,280.0 L367.0,280.0 L372.2,280.0 L377.4,280.0 L382.6,280.0 L387.7,280.0 L392.9,280.0 L398.1,280.0    L403.3,280.0 L408.4,280.0 L413.6,280.0 L418.8,280.0 L424.0,280.0 L429.2,280.0 L434.3,280.0 L439.5,280.0    L444.7,280.0 L449.9,280.0 L455.1,280.0 L460.2,280.0 L465.4,280.0 L470.6,280.0 L475.8,280.0 L481.0,280.0    L486.1,280.0 L491.3,280.0 L496.5,280.0 L501.7,280.0 L506.8,280.0 L512.0,280.0 L517.2,280.0 L522.4,280.0    L527.6,280.0 L532.7,280.0 L537.9,280.0 L543.1,280.0  h0.01\" stroke=\"rgb(  0,   0, 255)\"/></g>\n",
       "\t</g>\n",
       "<g style=\"fill:none; color:black; stroke:currentColor; stroke-width:0.50; stroke-linecap:butt; stroke-linejoin:miter\">\n",
       "</g>\n",
       "</g>\n",
       "</svg>"
      ],
      "text/plain": [
       "<IPython.core.display.SVG object>"
      ]
     },
     "metadata": {},
     "output_type": "display_data"
    }
   ],
   "source": [
    "x = 1:100;\n",
    "a = [1-sqrt(5);2]\n",
    "\n",
    "for n= 1:100\n",
    "a = [1 1; 1 0] * a;\n",
    "ratio(n) = a(1)/a(2);\n",
    "end\n",
    "plot(ratio)\n"
   ]
  }
 ],
 "metadata": {
  "kernelspec": {
   "display_name": "Octave",
   "language": "octave",
   "name": "octave"
  },
  "language_info": {
   "file_extension": ".m",
   "help_links": [
    {
     "text": "GNU Octave",
     "url": "https://www.gnu.org/software/octave/support.html"
    },
    {
     "text": "Octave Kernel",
     "url": "https://github.com/Calysto/octave_kernel"
    },
    {
     "text": "MetaKernel Magics",
     "url": "https://github.com/calysto/metakernel/blob/master/metakernel/magics/README.md"
    }
   ],
   "mimetype": "text/x-octave",
   "name": "octave",
   "version": "3.8.0"
  }
 },
 "nbformat": 4,
 "nbformat_minor": 2
}
