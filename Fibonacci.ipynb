{
 "cells": [
  {
   "cell_type": "markdown",
   "metadata": {
    "deletable": true,
    "editable": true
   },
   "source": [
    "# Fibonacci Numbers [[1]](https://en.wikipedia.org/wiki/Fibonacci_number)"
   ]
  },
  {
   "cell_type": "markdown",
   "metadata": {
    "deletable": true,
    "editable": true
   },
   "source": [
    "In mathematics, the Fibonacci numbers are the numbers in the following integer sequence, called the Fibonacci sequence, and characterized by the fact that every number after the first two is the sum of the two preceding ones:\n",
    "\n",
    "$$ 0, 1, 1, 2, 3, 5, 8, 13, 21, 34, 55, 89, 144, \\cdots$$"
   ]
  },
  {
   "cell_type": "markdown",
   "metadata": {
    "deletable": true,
    "editable": true
   },
   "source": [
    "In mathematical terms, the sequence $F_n$ of Fibonacci numbers is defined by the recurrence relation:\n",
    "\n",
    "$$ F_{n}=F_{n-1}+F_{n-2} $$\n",
    "\n",
    "with seed values:\n",
    "$$ F_0 = 0 , F_1 = 1 $$\n",
    "\n"
   ]
  },
  {
   "cell_type": "markdown",
   "metadata": {
    "deletable": true,
    "editable": true
   },
   "source": [
    "In matrix notation this definition is equivalent to:\n",
    "\n",
    "\\begin{eqnarray}\n",
    "    \\begin{bmatrix}\n",
    "    F_1 \\\\\n",
    "    F_0\n",
    "    \\end{bmatrix}\n",
    "    & = &\n",
    "    \\begin{bmatrix}\n",
    "    1 \\\\\n",
    "    0\n",
    "    \\end{bmatrix} \\\\\n",
    "    \\begin{bmatrix}\n",
    "    F_{n+1} \\\\\n",
    "    F_n\n",
    "    \\end{bmatrix}\n",
    "    & = &\n",
    "    \\begin{bmatrix}\n",
    "    1 & 1 \\\\\n",
    "    1 & 0\n",
    "    \\end{bmatrix}\n",
    "    \\begin{bmatrix}\n",
    "    F_n \\\\\n",
    "    F_{n-1}\n",
    "    \\end{bmatrix}\n",
    "\\end{eqnarray}"
   ]
  },
  {
   "cell_type": "markdown",
   "metadata": {
    "deletable": true,
    "editable": true
   },
   "source": [
    "If we want to compute only the $n^{th}$ Fibonacci number, then the following identity is useful:\n",
    "\n",
    "\\begin{equation}\n",
    "    \\begin{bmatrix}\n",
    "    F_{n} \\\\\n",
    "    F_{n-1}\n",
    "    \\end{bmatrix} =\n",
    "    \\begin{bmatrix}\n",
    "    1 & 1 \\\\\n",
    "    1 & 0\n",
    "    \\end{bmatrix}^{n-1}\n",
    "    \\begin{bmatrix}\n",
    "    F_1 \\\\\n",
    "    F_0\n",
    "    \\end{bmatrix}\n",
    "\\end{equation}\n",
    "\n",
    "By using matrix exponentiation (for instance, calculating $M^8$ as $((M^2)^2)^2$ ), $F_{n}$ can be calculated in $O(log(n))$ time complexity. This algorithm is sometimes called **fast fibonacci transform**."
   ]
  },
  {
   "cell_type": "markdown",
   "metadata": {
    "deletable": true,
    "editable": true
   },
   "source": [
    "**Follow the instructions in the next sections. Feel free to create extra cells (for instance, you can try different values for $F_1$ and $F_0$).**"
   ]
  },
  {
   "cell_type": "markdown",
   "metadata": {
    "deletable": true,
    "editable": true
   },
   "source": [
    "### 1. Fast Fibonacci Transform Implementation"
   ]
  },
  {
   "cell_type": "markdown",
   "metadata": {
    "deletable": true,
    "editable": true
   },
   "source": [
    "Implement a function that returns $F_n$ as we described above (for this assignment we are not concerned about the efficiency of your implementation, i.e. you can use $M^n$ assuming octave does matrix exponentiation for you):"
   ]
  },
  {
   "cell_type": "code",
   "execution_count": 1,
   "metadata": {
    "collapsed": true,
    "deletable": true,
    "editable": true
   },
   "outputs": [],
   "source": [
    "## suffers from overflows for big n\n",
    "\n",
    "function val = fibo(initials, n)\n",
    "    val = [1 1; 1 0]^n * initials;\n",
    "end"
   ]
  },
  {
   "cell_type": "markdown",
   "metadata": {
    "deletable": true,
    "editable": true
   },
   "source": [
    "### 2. Plot $F_{n+1} / F_n$ ratio"
   ]
  },
  {
   "cell_type": "markdown",
   "metadata": {
    "deletable": true,
    "editable": true
   },
   "source": [
    "Initialize $F_0 = 0$ and $F_1 = 1$, then plot the $\\dfrac{F_{n+1}}{F_{n}}$ values for $ 1 \\leq n \\leq 100$. As $n \\to \\infty$, we expect $\\dfrac{F_{n+1}}{F_{n}} \\to \\dfrac{\\sqrt{5}+1}{2}$. "
   ]
  },
  {
   "cell_type": "code",
   "execution_count": 1,
   "metadata": {
    "collapsed": false,
    "deletable": true,
    "editable": true
   },
   "outputs": [
    {
     "data": {
      "image/svg+xml": [
       "<svg height=\"420px\" viewBox=\"0 0 560 420\" width=\"560px\" xmlns=\"http://www.w3.org/2000/svg\" xmlns:xlink=\"http://www.w3.org/1999/xlink\">\n",
       "\n",
       "<title>Gnuplot</title>\n",
       "<desc>Produced by GNUPLOT 5.0 patchlevel 5 </desc>\n",
       "\n",
       "<g id=\"gnuplot_canvas\">\n",
       "\n",
       "<rect fill=\"#ffffff\" height=\"420\" width=\"560\" x=\"0\" y=\"0\"/>\n",
       "<defs>\n",
       "\n",
       "\t<circle id=\"gpDot\" r=\"0.5\" stroke-width=\"0.5\"/>\n",
       "\t<path d=\"M-1,0 h2 M0,-1 v2\" id=\"gpPt0\" stroke=\"currentColor\" stroke-width=\"0.333\"/>\n",
       "\t<path d=\"M-1,-1 L1,1 M1,-1 L-1,1\" id=\"gpPt1\" stroke=\"currentColor\" stroke-width=\"0.333\"/>\n",
       "\t<path d=\"M-1,0 L1,0 M0,-1 L0,1 M-1,-1 L1,1 M-1,1 L1,-1\" id=\"gpPt2\" stroke=\"currentColor\" stroke-width=\"0.333\"/>\n",
       "\t<rect height=\"2\" id=\"gpPt3\" stroke=\"currentColor\" stroke-width=\"0.333\" width=\"2\" x=\"-1\" y=\"-1\"/>\n",
       "\t<rect fill=\"currentColor\" height=\"2\" id=\"gpPt4\" stroke=\"currentColor\" stroke-width=\"0.333\" width=\"2\" x=\"-1\" y=\"-1\"/>\n",
       "\t<circle cx=\"0\" cy=\"0\" id=\"gpPt5\" r=\"1\" stroke=\"currentColor\" stroke-width=\"0.333\"/>\n",
       "\t<use fill=\"currentColor\" id=\"gpPt6\" stroke=\"none\" xlink:href=\"#gpPt5\"/>\n",
       "\t<path d=\"M0,-1.33 L-1.33,0.67 L1.33,0.67 z\" id=\"gpPt7\" stroke=\"currentColor\" stroke-width=\"0.333\"/>\n",
       "\t<use fill=\"currentColor\" id=\"gpPt8\" stroke=\"none\" xlink:href=\"#gpPt7\"/>\n",
       "\t<use id=\"gpPt9\" stroke=\"currentColor\" transform=\"rotate(180)\" xlink:href=\"#gpPt7\"/>\n",
       "\t<use fill=\"currentColor\" id=\"gpPt10\" stroke=\"none\" xlink:href=\"#gpPt9\"/>\n",
       "\t<use id=\"gpPt11\" stroke=\"currentColor\" transform=\"rotate(45)\" xlink:href=\"#gpPt3\"/>\n",
       "\t<use fill=\"currentColor\" id=\"gpPt12\" stroke=\"none\" xlink:href=\"#gpPt11\"/>\n",
       "\t<path d=\"M0,1.330 L1.265,0.411 L0.782,-1.067 L-0.782,-1.076 L-1.265,0.411 z\" id=\"gpPt13\" stroke=\"currentColor\" stroke-width=\"0.333\"/>\n",
       "\t<use fill=\"currentColor\" id=\"gpPt14\" stroke=\"none\" xlink:href=\"#gpPt13\"/>\n",
       "\t<filter filterUnits=\"objectBoundingBox\" height=\"1\" id=\"textbox\" width=\"1\" x=\"0\" y=\"0\">\n",
       "\t  <feFlood flood-color=\"#FFFFFF\" flood-opacity=\"1\" result=\"bgnd\"/>\n",
       "\t  <feComposite in=\"SourceGraphic\" in2=\"bgnd\" operator=\"atop\"/>\n",
       "\t</filter>\n",
       "\t<filter filterUnits=\"objectBoundingBox\" height=\"1\" id=\"greybox\" width=\"1\" x=\"0\" y=\"0\">\n",
       "\t  <feFlood flood-color=\"lightgrey\" flood-opacity=\"1\" result=\"grey\"/>\n",
       "\t  <feComposite in=\"SourceGraphic\" in2=\"grey\" operator=\"atop\"/>\n",
       "\t</filter>\n",
       "</defs>\n",
       "<g color=\"#FFFFFF\" fill=\"none\" stroke=\"currentColor\" stroke-linecap=\"butt\" stroke-linejoin=\"miter\" stroke-width=\"1.00\">\n",
       "</g>\n",
       "<g color=\"black\" fill=\"none\" stroke=\"currentColor\" stroke-linecap=\"butt\" stroke-linejoin=\"miter\" stroke-width=\"1.00\">\n",
       "\t<g shape-rendering=\"crispEdges\" stroke=\"none\">\n",
       "\t\t<polygon fill=\"rgb(255, 255, 255)\" points=\"30.8,396.0 543.0,396.0 543.0,11.4 30.8,11.4 \"/>\n",
       "\t</g>\n",
       "</g>\n",
       "<g color=\"black\" fill=\"none\" stroke=\"currentColor\" stroke-linecap=\"butt\" stroke-linejoin=\"miter\" stroke-width=\"1.00\">\n",
       "\t<path d=\"M30.8,396.0 L39.2,396.0 M543.1,396.0 L534.7,396.0  \" stroke=\"rgb(  0,   0,   0)\"/>\t<g fill=\"rgb(38,38,38)\" font-family=\"Arial\" font-size=\"10.00\" stroke=\"none\" text-anchor=\"end\" transform=\"translate(25.2,399.3)\">\n",
       "\t\t<text><tspan font-family=\"Arial\">1</tspan></text>\n",
       "\t</g>\n",
       "</g>\n",
       "<g color=\"black\" fill=\"none\" stroke=\"currentColor\" stroke-linecap=\"butt\" stroke-linejoin=\"miter\" stroke-width=\"1.00\">\n",
       "\t<path d=\"M30.8,319.1 L39.2,319.1 M543.1,319.1 L534.7,319.1  \" stroke=\"rgb(  0,   0,   0)\"/>\t<g fill=\"rgb(38,38,38)\" font-family=\"Arial\" font-size=\"10.00\" stroke=\"none\" text-anchor=\"end\" transform=\"translate(25.2,322.4)\">\n",
       "\t\t<text><tspan font-family=\"Arial\">1.2</tspan></text>\n",
       "\t</g>\n",
       "</g>\n",
       "<g color=\"black\" fill=\"none\" stroke=\"currentColor\" stroke-linecap=\"butt\" stroke-linejoin=\"miter\" stroke-width=\"1.00\">\n",
       "\t<path d=\"M30.8,242.1 L39.2,242.1 M543.1,242.1 L534.7,242.1  \" stroke=\"rgb(  0,   0,   0)\"/>\t<g fill=\"rgb(38,38,38)\" font-family=\"Arial\" font-size=\"10.00\" stroke=\"none\" text-anchor=\"end\" transform=\"translate(25.2,245.4)\">\n",
       "\t\t<text><tspan font-family=\"Arial\">1.4</tspan></text>\n",
       "\t</g>\n",
       "</g>\n",
       "<g color=\"black\" fill=\"none\" stroke=\"currentColor\" stroke-linecap=\"butt\" stroke-linejoin=\"miter\" stroke-width=\"1.00\">\n",
       "\t<path d=\"M30.8,165.2 L39.2,165.2 M543.1,165.2 L534.7,165.2  \" stroke=\"rgb(  0,   0,   0)\"/>\t<g fill=\"rgb(38,38,38)\" font-family=\"Arial\" font-size=\"10.00\" stroke=\"none\" text-anchor=\"end\" transform=\"translate(25.2,168.5)\">\n",
       "\t\t<text><tspan font-family=\"Arial\">1.6</tspan></text>\n",
       "\t</g>\n",
       "</g>\n",
       "<g color=\"black\" fill=\"none\" stroke=\"currentColor\" stroke-linecap=\"butt\" stroke-linejoin=\"miter\" stroke-width=\"1.00\">\n",
       "\t<path d=\"M30.8,88.2 L39.2,88.2 M543.1,88.2 L534.7,88.2  \" stroke=\"rgb(  0,   0,   0)\"/>\t<g fill=\"rgb(38,38,38)\" font-family=\"Arial\" font-size=\"10.00\" stroke=\"none\" text-anchor=\"end\" transform=\"translate(25.2,91.5)\">\n",
       "\t\t<text><tspan font-family=\"Arial\">1.8</tspan></text>\n",
       "\t</g>\n",
       "</g>\n",
       "<g color=\"black\" fill=\"none\" stroke=\"currentColor\" stroke-linecap=\"butt\" stroke-linejoin=\"miter\" stroke-width=\"1.00\">\n",
       "\t<path d=\"M30.8,11.3 L39.2,11.3 M543.1,11.3 L534.7,11.3  \" stroke=\"rgb(  0,   0,   0)\"/>\t<g fill=\"rgb(38,38,38)\" font-family=\"Arial\" font-size=\"10.00\" stroke=\"none\" text-anchor=\"end\" transform=\"translate(25.2,14.6)\">\n",
       "\t\t<text><tspan font-family=\"Arial\">2</tspan></text>\n",
       "\t</g>\n",
       "</g>\n",
       "<g color=\"black\" fill=\"none\" stroke=\"currentColor\" stroke-linecap=\"butt\" stroke-linejoin=\"miter\" stroke-width=\"1.00\">\n",
       "\t<path d=\"M30.8,396.0 L30.8,387.6 M30.8,11.3 L30.8,19.7  \" stroke=\"rgb(  0,   0,   0)\"/>\t<g fill=\"rgb(38,38,38)\" font-family=\"Arial\" font-size=\"10.00\" stroke=\"none\" text-anchor=\"middle\" transform=\"translate(30.8,411.3)\">\n",
       "\t\t<text><tspan font-family=\"Arial\">0</tspan></text>\n",
       "\t</g>\n",
       "</g>\n",
       "<g color=\"black\" fill=\"none\" stroke=\"currentColor\" stroke-linecap=\"butt\" stroke-linejoin=\"miter\" stroke-width=\"1.00\">\n",
       "\t<path d=\"M133.3,396.0 L133.3,387.6 M133.3,11.3 L133.3,19.7  \" stroke=\"rgb(  0,   0,   0)\"/>\t<g fill=\"rgb(38,38,38)\" font-family=\"Arial\" font-size=\"10.00\" stroke=\"none\" text-anchor=\"middle\" transform=\"translate(133.3,411.3)\">\n",
       "\t\t<text><tspan font-family=\"Arial\">20</tspan></text>\n",
       "\t</g>\n",
       "</g>\n",
       "<g color=\"black\" fill=\"none\" stroke=\"currentColor\" stroke-linecap=\"butt\" stroke-linejoin=\"miter\" stroke-width=\"1.00\">\n",
       "\t<path d=\"M235.7,396.0 L235.7,387.6 M235.7,11.3 L235.7,19.7  \" stroke=\"rgb(  0,   0,   0)\"/>\t<g fill=\"rgb(38,38,38)\" font-family=\"Arial\" font-size=\"10.00\" stroke=\"none\" text-anchor=\"middle\" transform=\"translate(235.7,411.3)\">\n",
       "\t\t<text><tspan font-family=\"Arial\">40</tspan></text>\n",
       "\t</g>\n",
       "</g>\n",
       "<g color=\"black\" fill=\"none\" stroke=\"currentColor\" stroke-linecap=\"butt\" stroke-linejoin=\"miter\" stroke-width=\"1.00\">\n",
       "\t<path d=\"M338.2,396.0 L338.2,387.6 M338.2,11.3 L338.2,19.7  \" stroke=\"rgb(  0,   0,   0)\"/>\t<g fill=\"rgb(38,38,38)\" font-family=\"Arial\" font-size=\"10.00\" stroke=\"none\" text-anchor=\"middle\" transform=\"translate(338.2,411.3)\">\n",
       "\t\t<text><tspan font-family=\"Arial\">60</tspan></text>\n",
       "\t</g>\n",
       "</g>\n",
       "<g color=\"black\" fill=\"none\" stroke=\"currentColor\" stroke-linecap=\"butt\" stroke-linejoin=\"miter\" stroke-width=\"1.00\">\n",
       "\t<path d=\"M440.6,396.0 L440.6,387.6 M440.6,11.3 L440.6,19.7  \" stroke=\"rgb(  0,   0,   0)\"/>\t<g fill=\"rgb(38,38,38)\" font-family=\"Arial\" font-size=\"10.00\" stroke=\"none\" text-anchor=\"middle\" transform=\"translate(440.6,411.3)\">\n",
       "\t\t<text><tspan font-family=\"Arial\">80</tspan></text>\n",
       "\t</g>\n",
       "</g>\n",
       "<g color=\"black\" fill=\"none\" stroke=\"currentColor\" stroke-linecap=\"butt\" stroke-linejoin=\"miter\" stroke-width=\"1.00\">\n",
       "\t<path d=\"M543.1,396.0 L543.1,387.6 M543.1,11.3 L543.1,19.7  \" stroke=\"rgb(  0,   0,   0)\"/>\t<g fill=\"rgb(38,38,38)\" font-family=\"Arial\" font-size=\"10.00\" stroke=\"none\" text-anchor=\"middle\" transform=\"translate(543.1,411.3)\">\n",
       "\t\t<text><tspan font-family=\"Arial\">100</tspan></text>\n",
       "\t</g>\n",
       "</g>\n",
       "<g color=\"black\" fill=\"none\" stroke=\"currentColor\" stroke-linecap=\"butt\" stroke-linejoin=\"miter\" stroke-width=\"1.00\">\n",
       "</g>\n",
       "<g color=\"black\" fill=\"none\" stroke=\"currentColor\" stroke-linecap=\"butt\" stroke-linejoin=\"miter\" stroke-width=\"1.00\">\n",
       "</g>\n",
       "\t<g id=\"gnuplot_plot_1a\"><title>gnuplot_plot_1a</title>\n",
       "<g color=\"#FFFFFF\" fill=\"none\" stroke=\"rgb(  0,   0,   0)\" stroke-linecap=\"butt\" stroke-linejoin=\"miter\" stroke-width=\"0.50\">\n",
       "</g>\n",
       "<g color=\"black\" fill=\"none\" stroke=\"currentColor\" stroke-linecap=\"butt\" stroke-linejoin=\"miter\" stroke-width=\"0.50\">\n",
       "\t<path d=\"M35.9,396.0 L41.0,11.3 L46.2,203.6 L51.3,139.5 L56.4,165.2 L61.5,155.6 L66.7,159.3 L71.8,157.9   L76.9,158.4 L82.0,158.2 L87.2,158.3 L92.3,158.2 L97.4,158.2 L102.5,158.2 L107.6,158.2 L112.8,158.2   L117.9,158.2 L123.0,158.2 L128.1,158.2 L133.3,158.2 L138.4,158.2 L143.5,158.2 L148.6,158.2 L153.8,158.2   L158.9,158.2 L164.0,158.2 L169.1,158.2 L174.2,158.2 L179.4,158.2 L184.5,158.2 L189.6,158.2 L194.7,158.2   L199.9,158.2 L205.0,158.2 L210.1,158.2 L215.2,158.2 L220.4,158.2 L225.5,158.2 L230.6,158.2 L235.7,158.2   L240.8,158.2 L246.0,158.2 L251.1,158.2 L256.2,158.2 L261.3,158.2 L266.5,158.2 L271.6,158.2 L276.7,158.2   L281.8,158.2 L287.0,158.2 L292.1,158.2 L297.2,158.2 L302.3,158.2 L307.4,158.2 L312.6,158.2 L317.7,158.2   L322.8,158.2 L327.9,158.2 L333.1,158.2 L338.2,158.2 L343.3,158.2 L348.4,158.2 L353.5,158.2 L358.7,158.2   L363.8,158.2 L368.9,158.2 L374.0,158.2 L379.2,158.2 L384.3,158.2 L389.4,158.2 L394.5,158.2 L399.7,158.2   L404.8,158.2 L409.9,158.2 L415.0,158.2 L420.1,158.2 L425.3,158.2 L430.4,158.2 L435.5,158.2 L440.6,158.2   L445.8,158.2 L450.9,158.2 L456.0,158.2 L461.1,158.2 L466.3,158.2 L471.4,158.2 L476.5,158.2 L481.6,158.2   L486.7,158.2 L491.9,158.2 L497.0,158.2 L502.1,158.2 L507.2,158.2 L512.4,158.2 L517.5,158.2 L522.6,158.2   L527.7,158.2 L532.9,158.2 L538.0,158.2 L543.1,158.2  \" stroke=\"rgb(255,   0,   0)\"/></g>\n",
       "\t</g>\n",
       "\t<g id=\"gnuplot_plot_2a\"><title>gnuplot_plot_2a</title>\n",
       "<g color=\"black\" fill=\"none\" stroke=\"currentColor\" stroke-linecap=\"butt\" stroke-linejoin=\"miter\" stroke-width=\"0.50\">\n",
       "\t<path d=\"M35.9,158.2 L41.0,158.2 L46.2,158.2 L51.3,158.2 L56.4,158.2 L61.5,158.2 L66.7,158.2 L71.8,158.2   L76.9,158.2 L82.0,158.2 L87.2,158.2 L92.3,158.2 L97.4,158.2 L102.5,158.2 L107.6,158.2 L112.8,158.2   L117.9,158.2 L123.0,158.2 L128.1,158.2 L133.3,158.2 L138.4,158.2 L143.5,158.2 L148.6,158.2 L153.8,158.2   L158.9,158.2 L164.0,158.2 L169.1,158.2 L174.2,158.2 L179.4,158.2 L184.5,158.2 L189.6,158.2 L194.7,158.2   L199.9,158.2 L205.0,158.2 L210.1,158.2 L215.2,158.2 L220.4,158.2 L225.5,158.2 L230.6,158.2 L235.7,158.2   L240.8,158.2 L246.0,158.2 L251.1,158.2 L256.2,158.2 L261.3,158.2 L266.5,158.2 L271.6,158.2 L276.7,158.2   L281.8,158.2 L287.0,158.2 L292.1,158.2 L297.2,158.2 L302.3,158.2 L307.4,158.2 L312.6,158.2 L317.7,158.2   L322.8,158.2 L327.9,158.2 L333.1,158.2 L338.2,158.2 L343.3,158.2 L348.4,158.2 L353.5,158.2 L358.7,158.2   L363.8,158.2 L368.9,158.2 L374.0,158.2 L379.2,158.2 L384.3,158.2 L389.4,158.2 L394.5,158.2 L399.7,158.2   L404.8,158.2 L409.9,158.2 L415.0,158.2 L420.1,158.2 L425.3,158.2 L430.4,158.2 L435.5,158.2 L440.6,158.2   L445.8,158.2 L450.9,158.2 L456.0,158.2 L461.1,158.2 L466.3,158.2 L471.4,158.2 L476.5,158.2 L481.6,158.2   L486.7,158.2 L491.9,158.2 L497.0,158.2 L502.1,158.2 L507.2,158.2 L512.4,158.2 L517.5,158.2 L522.6,158.2   L527.7,158.2 L532.9,158.2 L538.0,158.2 L543.1,158.2  \" stroke=\"rgb(  0,   0, 255)\" stroke-dasharray=\"5.0,5.0\"/></g>\n",
       "\t</g>\n",
       "<g color=\"#FFFFFF\" fill=\"none\" stroke=\"rgb(  0,   0, 255)\" stroke-linecap=\"butt\" stroke-linejoin=\"miter\" stroke-width=\"2.00\">\n",
       "</g>\n",
       "<g color=\"black\" fill=\"none\" stroke=\"currentColor\" stroke-linecap=\"butt\" stroke-linejoin=\"miter\" stroke-width=\"2.00\">\n",
       "</g>\n",
       "<g color=\"black\" fill=\"none\" stroke=\"black\" stroke-linecap=\"butt\" stroke-linejoin=\"miter\" stroke-width=\"0.50\">\n",
       "</g>\n",
       "<g color=\"black\" fill=\"none\" stroke=\"currentColor\" stroke-linecap=\"butt\" stroke-linejoin=\"miter\" stroke-width=\"0.50\">\n",
       "\t<path d=\"M30.8,396.0 L543.1,396.0  \" stroke=\"rgb( 38,  38,  38)\"/></g>\n",
       "<g color=\"black\" fill=\"none\" stroke=\"currentColor\" stroke-linecap=\"butt\" stroke-linejoin=\"miter\" stroke-width=\"0.50\">\n",
       "\t<path d=\"M30.8,11.3 L543.1,11.3  \" stroke=\"rgb( 38,  38,  38)\"/></g>\n",
       "<g color=\"black\" fill=\"none\" stroke=\"currentColor\" stroke-linecap=\"butt\" stroke-linejoin=\"miter\" stroke-width=\"0.50\">\n",
       "\t<path d=\"M30.8,396.0 L30.8,11.3  \" stroke=\"rgb( 38,  38,  38)\"/></g>\n",
       "<g color=\"black\" fill=\"none\" stroke=\"currentColor\" stroke-linecap=\"butt\" stroke-linejoin=\"miter\" stroke-width=\"0.50\">\n",
       "\t<path d=\"M543.1,396.0 L543.1,11.3  \" stroke=\"rgb( 38,  38,  38)\"/></g>\n",
       "<g color=\"black\" fill=\"none\" stroke=\"rgb( 38,  38,  38)\" stroke-linecap=\"butt\" stroke-linejoin=\"miter\" stroke-width=\"1.00\">\n",
       "</g>\n",
       "<g color=\"black\" fill=\"none\" stroke=\"currentColor\" stroke-linecap=\"butt\" stroke-linejoin=\"miter\" stroke-width=\"1.00\">\n",
       "</g>\n",
       "</g>\n",
       "</svg>"
      ],
      "text/plain": [
       "<IPython.core.display.SVG object>"
      ]
     },
     "metadata": {},
     "output_type": "display_data"
    }
   ],
   "source": [
    "values = [1;0];\n",
    "A = [1 1; 1 0];\n",
    "\n",
    "x = 1:100;\n",
    "val = zeros(1, 100);\n",
    "lim = ones(1,100) * (sqrt(5) + 1) / 2;\n",
    "\n",
    "for n = x\n",
    "    values = A*values;\n",
    "    values = values/sqrt(values' * values);\n",
    "    val(n) = values(1)/values(2);\n",
    "endfor\n",
    "    \n",
    "plot(x, val, 'r', x, lim, '--b');"
   ]
  },
  {
   "cell_type": "markdown",
   "metadata": {
    "deletable": true,
    "editable": true
   },
   "source": [
    "### 3. Plot $F_{n+1} / F_n$ ratio starting with $F_0 = 2$ and $F_1 = 1 - \\sqrt{5}$"
   ]
  },
  {
   "cell_type": "markdown",
   "metadata": {
    "deletable": true,
    "editable": true
   },
   "source": [
    "Initialize $F_0 = 2$ and $F_1 = F_1 = 1 - \\sqrt{5}$, then plot the $\\dfrac{F_{n+1}}{F_{n}}$ values for $ 1 \\leq n \\leq 100$. If we would represent $\\sqrt{5}$ exactly in our floating point arithmetic, then as $n \\to \\infty$, we expect  $\\dfrac{F_{n+1}}{F_{n}} \\to \\dfrac{1 - \\sqrt{5}}{2}$, but for the very large values of $n$, this ratio unexpectedly converges to $\\dfrac{\\sqrt{5} + 1}{2}$."
   ]
  },
  {
   "cell_type": "code",
   "execution_count": 2,
   "metadata": {
    "collapsed": false,
    "deletable": true,
    "editable": true
   },
   "outputs": [
    {
     "data": {
      "image/svg+xml": [
       "<svg height=\"420px\" viewBox=\"0 0 560 420\" width=\"560px\" xmlns=\"http://www.w3.org/2000/svg\" xmlns:xlink=\"http://www.w3.org/1999/xlink\">\n",
       "\n",
       "<title>Gnuplot</title>\n",
       "<desc>Produced by GNUPLOT 5.0 patchlevel 5 </desc>\n",
       "\n",
       "<g id=\"gnuplot_canvas\">\n",
       "\n",
       "<rect fill=\"#ffffff\" height=\"420\" width=\"560\" x=\"0\" y=\"0\"/>\n",
       "<defs>\n",
       "\n",
       "\t<circle id=\"gpDot\" r=\"0.5\" stroke-width=\"0.5\"/>\n",
       "\t<path d=\"M-1,0 h2 M0,-1 v2\" id=\"gpPt0\" stroke=\"currentColor\" stroke-width=\"0.333\"/>\n",
       "\t<path d=\"M-1,-1 L1,1 M1,-1 L-1,1\" id=\"gpPt1\" stroke=\"currentColor\" stroke-width=\"0.333\"/>\n",
       "\t<path d=\"M-1,0 L1,0 M0,-1 L0,1 M-1,-1 L1,1 M-1,1 L1,-1\" id=\"gpPt2\" stroke=\"currentColor\" stroke-width=\"0.333\"/>\n",
       "\t<rect height=\"2\" id=\"gpPt3\" stroke=\"currentColor\" stroke-width=\"0.333\" width=\"2\" x=\"-1\" y=\"-1\"/>\n",
       "\t<rect fill=\"currentColor\" height=\"2\" id=\"gpPt4\" stroke=\"currentColor\" stroke-width=\"0.333\" width=\"2\" x=\"-1\" y=\"-1\"/>\n",
       "\t<circle cx=\"0\" cy=\"0\" id=\"gpPt5\" r=\"1\" stroke=\"currentColor\" stroke-width=\"0.333\"/>\n",
       "\t<use fill=\"currentColor\" id=\"gpPt6\" stroke=\"none\" xlink:href=\"#gpPt5\"/>\n",
       "\t<path d=\"M0,-1.33 L-1.33,0.67 L1.33,0.67 z\" id=\"gpPt7\" stroke=\"currentColor\" stroke-width=\"0.333\"/>\n",
       "\t<use fill=\"currentColor\" id=\"gpPt8\" stroke=\"none\" xlink:href=\"#gpPt7\"/>\n",
       "\t<use id=\"gpPt9\" stroke=\"currentColor\" transform=\"rotate(180)\" xlink:href=\"#gpPt7\"/>\n",
       "\t<use fill=\"currentColor\" id=\"gpPt10\" stroke=\"none\" xlink:href=\"#gpPt9\"/>\n",
       "\t<use id=\"gpPt11\" stroke=\"currentColor\" transform=\"rotate(45)\" xlink:href=\"#gpPt3\"/>\n",
       "\t<use fill=\"currentColor\" id=\"gpPt12\" stroke=\"none\" xlink:href=\"#gpPt11\"/>\n",
       "\t<path d=\"M0,1.330 L1.265,0.411 L0.782,-1.067 L-0.782,-1.076 L-1.265,0.411 z\" id=\"gpPt13\" stroke=\"currentColor\" stroke-width=\"0.333\"/>\n",
       "\t<use fill=\"currentColor\" id=\"gpPt14\" stroke=\"none\" xlink:href=\"#gpPt13\"/>\n",
       "\t<filter filterUnits=\"objectBoundingBox\" height=\"1\" id=\"textbox\" width=\"1\" x=\"0\" y=\"0\">\n",
       "\t  <feFlood flood-color=\"#FFFFFF\" flood-opacity=\"1\" result=\"bgnd\"/>\n",
       "\t  <feComposite in=\"SourceGraphic\" in2=\"bgnd\" operator=\"atop\"/>\n",
       "\t</filter>\n",
       "\t<filter filterUnits=\"objectBoundingBox\" height=\"1\" id=\"greybox\" width=\"1\" x=\"0\" y=\"0\">\n",
       "\t  <feFlood flood-color=\"lightgrey\" flood-opacity=\"1\" result=\"grey\"/>\n",
       "\t  <feComposite in=\"SourceGraphic\" in2=\"grey\" operator=\"atop\"/>\n",
       "\t</filter>\n",
       "</defs>\n",
       "<g color=\"#FFFFFF\" fill=\"none\" stroke=\"currentColor\" stroke-linecap=\"butt\" stroke-linejoin=\"miter\" stroke-width=\"1.00\">\n",
       "</g>\n",
       "<g color=\"black\" fill=\"none\" stroke=\"currentColor\" stroke-linecap=\"butt\" stroke-linejoin=\"miter\" stroke-width=\"1.00\">\n",
       "\t<g shape-rendering=\"crispEdges\" stroke=\"none\">\n",
       "\t\t<polygon fill=\"rgb(255, 255, 255)\" points=\"25.2,396.0 543.0,396.0 543.0,11.4 25.2,11.4 \"/>\n",
       "\t</g>\n",
       "</g>\n",
       "<g color=\"black\" fill=\"none\" stroke=\"currentColor\" stroke-linecap=\"butt\" stroke-linejoin=\"miter\" stroke-width=\"1.00\">\n",
       "\t<path d=\"M25.2,396.0 L33.6,396.0 M543.1,396.0 L534.7,396.0  \" stroke=\"rgb(  0,   0,   0)\"/>\t<g fill=\"rgb(38,38,38)\" font-family=\"Arial\" font-size=\"10.00\" stroke=\"none\" text-anchor=\"end\" transform=\"translate(19.6,399.3)\">\n",
       "\t\t<text><tspan font-family=\"Arial\">-2</tspan></text>\n",
       "\t</g>\n",
       "</g>\n",
       "<g color=\"black\" fill=\"none\" stroke=\"currentColor\" stroke-linecap=\"butt\" stroke-linejoin=\"miter\" stroke-width=\"1.00\">\n",
       "\t<path d=\"M25.2,347.9 L33.6,347.9 M543.1,347.9 L534.7,347.9  \" stroke=\"rgb(  0,   0,   0)\"/>\t<g fill=\"rgb(38,38,38)\" font-family=\"Arial\" font-size=\"10.00\" stroke=\"none\" text-anchor=\"end\" transform=\"translate(19.6,351.2)\">\n",
       "\t\t<text><tspan font-family=\"Arial\">-1</tspan></text>\n",
       "\t</g>\n",
       "</g>\n",
       "<g color=\"black\" fill=\"none\" stroke=\"currentColor\" stroke-linecap=\"butt\" stroke-linejoin=\"miter\" stroke-width=\"1.00\">\n",
       "\t<path d=\"M25.2,299.8 L33.6,299.8 M543.1,299.8 L534.7,299.8  \" stroke=\"rgb(  0,   0,   0)\"/>\t<g fill=\"rgb(38,38,38)\" font-family=\"Arial\" font-size=\"10.00\" stroke=\"none\" text-anchor=\"end\" transform=\"translate(19.6,303.1)\">\n",
       "\t\t<text><tspan font-family=\"Arial\">0</tspan></text>\n",
       "\t</g>\n",
       "</g>\n",
       "<g color=\"black\" fill=\"none\" stroke=\"currentColor\" stroke-linecap=\"butt\" stroke-linejoin=\"miter\" stroke-width=\"1.00\">\n",
       "\t<path d=\"M25.2,251.7 L33.6,251.7 M543.1,251.7 L534.7,251.7  \" stroke=\"rgb(  0,   0,   0)\"/>\t<g fill=\"rgb(38,38,38)\" font-family=\"Arial\" font-size=\"10.00\" stroke=\"none\" text-anchor=\"end\" transform=\"translate(19.6,255.0)\">\n",
       "\t\t<text><tspan font-family=\"Arial\">1</tspan></text>\n",
       "\t</g>\n",
       "</g>\n",
       "<g color=\"black\" fill=\"none\" stroke=\"currentColor\" stroke-linecap=\"butt\" stroke-linejoin=\"miter\" stroke-width=\"1.00\">\n",
       "\t<path d=\"M25.2,203.6 L33.6,203.6 M543.1,203.6 L534.7,203.6  \" stroke=\"rgb(  0,   0,   0)\"/>\t<g fill=\"rgb(38,38,38)\" font-family=\"Arial\" font-size=\"10.00\" stroke=\"none\" text-anchor=\"end\" transform=\"translate(19.6,206.9)\">\n",
       "\t\t<text><tspan font-family=\"Arial\">2</tspan></text>\n",
       "\t</g>\n",
       "</g>\n",
       "<g color=\"black\" fill=\"none\" stroke=\"currentColor\" stroke-linecap=\"butt\" stroke-linejoin=\"miter\" stroke-width=\"1.00\">\n",
       "\t<path d=\"M25.2,155.6 L33.6,155.6 M543.1,155.6 L534.7,155.6  \" stroke=\"rgb(  0,   0,   0)\"/>\t<g fill=\"rgb(38,38,38)\" font-family=\"Arial\" font-size=\"10.00\" stroke=\"none\" text-anchor=\"end\" transform=\"translate(19.6,158.9)\">\n",
       "\t\t<text><tspan font-family=\"Arial\">3</tspan></text>\n",
       "\t</g>\n",
       "</g>\n",
       "<g color=\"black\" fill=\"none\" stroke=\"currentColor\" stroke-linecap=\"butt\" stroke-linejoin=\"miter\" stroke-width=\"1.00\">\n",
       "\t<path d=\"M25.2,107.5 L33.6,107.5 M543.1,107.5 L534.7,107.5  \" stroke=\"rgb(  0,   0,   0)\"/>\t<g fill=\"rgb(38,38,38)\" font-family=\"Arial\" font-size=\"10.00\" stroke=\"none\" text-anchor=\"end\" transform=\"translate(19.6,110.8)\">\n",
       "\t\t<text><tspan font-family=\"Arial\">4</tspan></text>\n",
       "\t</g>\n",
       "</g>\n",
       "<g color=\"black\" fill=\"none\" stroke=\"currentColor\" stroke-linecap=\"butt\" stroke-linejoin=\"miter\" stroke-width=\"1.00\">\n",
       "\t<path d=\"M25.2,59.4 L33.6,59.4 M543.1,59.4 L534.7,59.4  \" stroke=\"rgb(  0,   0,   0)\"/>\t<g fill=\"rgb(38,38,38)\" font-family=\"Arial\" font-size=\"10.00\" stroke=\"none\" text-anchor=\"end\" transform=\"translate(19.6,62.7)\">\n",
       "\t\t<text><tspan font-family=\"Arial\">5</tspan></text>\n",
       "\t</g>\n",
       "</g>\n",
       "<g color=\"black\" fill=\"none\" stroke=\"currentColor\" stroke-linecap=\"butt\" stroke-linejoin=\"miter\" stroke-width=\"1.00\">\n",
       "\t<path d=\"M25.2,11.3 L33.6,11.3 M543.1,11.3 L534.7,11.3  \" stroke=\"rgb(  0,   0,   0)\"/>\t<g fill=\"rgb(38,38,38)\" font-family=\"Arial\" font-size=\"10.00\" stroke=\"none\" text-anchor=\"end\" transform=\"translate(19.6,14.6)\">\n",
       "\t\t<text><tspan font-family=\"Arial\">6</tspan></text>\n",
       "\t</g>\n",
       "</g>\n",
       "<g color=\"black\" fill=\"none\" stroke=\"currentColor\" stroke-linecap=\"butt\" stroke-linejoin=\"miter\" stroke-width=\"1.00\">\n",
       "\t<path d=\"M25.2,396.0 L25.2,387.6 M25.2,11.3 L25.2,19.7  \" stroke=\"rgb(  0,   0,   0)\"/>\t<g fill=\"rgb(38,38,38)\" font-family=\"Arial\" font-size=\"10.00\" stroke=\"none\" text-anchor=\"middle\" transform=\"translate(25.2,411.3)\">\n",
       "\t\t<text><tspan font-family=\"Arial\">0</tspan></text>\n",
       "\t</g>\n",
       "</g>\n",
       "<g color=\"black\" fill=\"none\" stroke=\"currentColor\" stroke-linecap=\"butt\" stroke-linejoin=\"miter\" stroke-width=\"1.00\">\n",
       "\t<path d=\"M128.8,396.0 L128.8,387.6 M128.8,11.3 L128.8,19.7  \" stroke=\"rgb(  0,   0,   0)\"/>\t<g fill=\"rgb(38,38,38)\" font-family=\"Arial\" font-size=\"10.00\" stroke=\"none\" text-anchor=\"middle\" transform=\"translate(128.8,411.3)\">\n",
       "\t\t<text><tspan font-family=\"Arial\">20</tspan></text>\n",
       "\t</g>\n",
       "</g>\n",
       "<g color=\"black\" fill=\"none\" stroke=\"currentColor\" stroke-linecap=\"butt\" stroke-linejoin=\"miter\" stroke-width=\"1.00\">\n",
       "\t<path d=\"M232.4,396.0 L232.4,387.6 M232.4,11.3 L232.4,19.7  \" stroke=\"rgb(  0,   0,   0)\"/>\t<g fill=\"rgb(38,38,38)\" font-family=\"Arial\" font-size=\"10.00\" stroke=\"none\" text-anchor=\"middle\" transform=\"translate(232.4,411.3)\">\n",
       "\t\t<text><tspan font-family=\"Arial\">40</tspan></text>\n",
       "\t</g>\n",
       "</g>\n",
       "<g color=\"black\" fill=\"none\" stroke=\"currentColor\" stroke-linecap=\"butt\" stroke-linejoin=\"miter\" stroke-width=\"1.00\">\n",
       "\t<path d=\"M335.9,396.0 L335.9,387.6 M335.9,11.3 L335.9,19.7  \" stroke=\"rgb(  0,   0,   0)\"/>\t<g fill=\"rgb(38,38,38)\" font-family=\"Arial\" font-size=\"10.00\" stroke=\"none\" text-anchor=\"middle\" transform=\"translate(335.9,411.3)\">\n",
       "\t\t<text><tspan font-family=\"Arial\">60</tspan></text>\n",
       "\t</g>\n",
       "</g>\n",
       "<g color=\"black\" fill=\"none\" stroke=\"currentColor\" stroke-linecap=\"butt\" stroke-linejoin=\"miter\" stroke-width=\"1.00\">\n",
       "\t<path d=\"M439.5,396.0 L439.5,387.6 M439.5,11.3 L439.5,19.7  \" stroke=\"rgb(  0,   0,   0)\"/>\t<g fill=\"rgb(38,38,38)\" font-family=\"Arial\" font-size=\"10.00\" stroke=\"none\" text-anchor=\"middle\" transform=\"translate(439.5,411.3)\">\n",
       "\t\t<text><tspan font-family=\"Arial\">80</tspan></text>\n",
       "\t</g>\n",
       "</g>\n",
       "<g color=\"black\" fill=\"none\" stroke=\"currentColor\" stroke-linecap=\"butt\" stroke-linejoin=\"miter\" stroke-width=\"1.00\">\n",
       "\t<path d=\"M543.1,396.0 L543.1,387.6 M543.1,11.3 L543.1,19.7  \" stroke=\"rgb(  0,   0,   0)\"/>\t<g fill=\"rgb(38,38,38)\" font-family=\"Arial\" font-size=\"10.00\" stroke=\"none\" text-anchor=\"middle\" transform=\"translate(543.1,411.3)\">\n",
       "\t\t<text><tspan font-family=\"Arial\">100</tspan></text>\n",
       "\t</g>\n",
       "</g>\n",
       "<g color=\"black\" fill=\"none\" stroke=\"currentColor\" stroke-linecap=\"butt\" stroke-linejoin=\"miter\" stroke-width=\"1.00\">\n",
       "</g>\n",
       "<g color=\"black\" fill=\"none\" stroke=\"currentColor\" stroke-linecap=\"butt\" stroke-linejoin=\"miter\" stroke-width=\"1.00\">\n",
       "</g>\n",
       "\t<g id=\"gnuplot_plot_1a\"><title>gnuplot_plot_1a</title>\n",
       "<g color=\"#FFFFFF\" fill=\"none\" stroke=\"rgb(  0,   0,   0)\" stroke-linecap=\"butt\" stroke-linejoin=\"miter\" stroke-width=\"0.50\">\n",
       "</g>\n",
       "<g color=\"black\" fill=\"none\" stroke=\"currentColor\" stroke-linecap=\"butt\" stroke-linejoin=\"miter\" stroke-width=\"0.50\">\n",
       "\t<path d=\"M30.4,329.5 L35.6,329.5 L40.7,329.5 L45.9,329.5 L51.1,329.5 L56.3,329.5 L61.5,329.5 L66.6,329.5   L71.8,329.5 L77.0,329.5 L82.2,329.5 L87.3,329.5 L92.5,329.5 L97.7,329.5 L102.9,329.5 L108.1,329.5   L113.2,329.5 L118.4,329.5 L123.6,329.5 L128.8,329.5 L134.0,329.5 L139.1,329.5 L144.3,329.5 L149.5,329.5   L154.7,329.5 L159.9,329.5 L165.0,329.5 L170.2,329.5 L175.4,329.5 L180.6,329.6 L185.7,329.5 L190.9,329.6   L196.1,329.3 L201.3,330.1 L206.5,328.2 L211.6,333.3 L216.8,320.9 L222.0,361.7 L227.2,289.1 L232.4,35.8   L237.5,243.0 L242.7,211.1 L247.9,225.7 L253.1,220.5 L258.3,222.6 L263.4,221.8 L268.6,222.1 L273.8,222.0   L279.0,222.0 L284.2,222.0 L289.3,222.0 L294.5,222.0 L299.7,222.0 L304.9,222.0 L310.0,222.0 L315.2,222.0   L320.4,222.0 L325.6,222.0 L330.8,222.0 L335.9,222.0 L341.1,222.0 L346.3,222.0 L351.5,222.0 L356.7,222.0   L361.8,222.0 L367.0,222.0 L372.2,222.0 L377.4,222.0 L382.6,222.0 L387.7,222.0 L392.9,222.0 L398.1,222.0   L403.3,222.0 L408.4,222.0 L413.6,222.0 L418.8,222.0 L424.0,222.0 L429.2,222.0 L434.3,222.0 L439.5,222.0   L444.7,222.0 L449.9,222.0 L455.1,222.0 L460.2,222.0 L465.4,222.0 L470.6,222.0 L475.8,222.0 L481.0,222.0   L486.1,222.0 L491.3,222.0 L496.5,222.0 L501.7,222.0 L506.8,222.0 L512.0,222.0 L517.2,222.0 L522.4,222.0   L527.6,222.0 L532.7,222.0 L537.9,222.0 L543.1,222.0  \" stroke=\"rgb(255,   0,   0)\"/></g>\n",
       "\t</g>\n",
       "\t<g id=\"gnuplot_plot_2a\"><title>gnuplot_plot_2a</title>\n",
       "<g color=\"black\" fill=\"none\" stroke=\"currentColor\" stroke-linecap=\"butt\" stroke-linejoin=\"miter\" stroke-width=\"0.50\">\n",
       "\t<path d=\"M30.4,222.0 L35.6,222.0 L40.7,222.0 L45.9,222.0 L51.1,222.0 L56.3,222.0 L61.5,222.0 L66.6,222.0   L71.8,222.0 L77.0,222.0 L82.2,222.0 L87.3,222.0 L92.5,222.0 L97.7,222.0 L102.9,222.0 L108.1,222.0   L113.2,222.0 L118.4,222.0 L123.6,222.0 L128.8,222.0 L134.0,222.0 L139.1,222.0 L144.3,222.0 L149.5,222.0   L154.7,222.0 L159.9,222.0 L165.0,222.0 L170.2,222.0 L175.4,222.0 L180.6,222.0 L185.7,222.0 L190.9,222.0   L196.1,222.0 L201.3,222.0 L206.5,222.0 L211.6,222.0 L216.8,222.0 L222.0,222.0 L227.2,222.0 L232.4,222.0   L237.5,222.0 L242.7,222.0 L247.9,222.0 L253.1,222.0 L258.3,222.0 L263.4,222.0 L268.6,222.0 L273.8,222.0   L279.0,222.0 L284.2,222.0 L289.3,222.0 L294.5,222.0 L299.7,222.0 L304.9,222.0 L310.0,222.0 L315.2,222.0   L320.4,222.0 L325.6,222.0 L330.8,222.0 L335.9,222.0 L341.1,222.0 L346.3,222.0 L351.5,222.0 L356.7,222.0   L361.8,222.0 L367.0,222.0 L372.2,222.0 L377.4,222.0 L382.6,222.0 L387.7,222.0 L392.9,222.0 L398.1,222.0   L403.3,222.0 L408.4,222.0 L413.6,222.0 L418.8,222.0 L424.0,222.0 L429.2,222.0 L434.3,222.0 L439.5,222.0   L444.7,222.0 L449.9,222.0 L455.1,222.0 L460.2,222.0 L465.4,222.0 L470.6,222.0 L475.8,222.0 L481.0,222.0   L486.1,222.0 L491.3,222.0 L496.5,222.0 L501.7,222.0 L506.8,222.0 L512.0,222.0 L517.2,222.0 L522.4,222.0   L527.6,222.0 L532.7,222.0 L537.9,222.0 L543.1,222.0  \" stroke=\"rgb(  0,   0, 255)\" stroke-dasharray=\"5.0,5.0\"/></g>\n",
       "\t</g>\n",
       "\t<g id=\"gnuplot_plot_3a\"><title>gnuplot_plot_3a</title>\n",
       "<g color=\"black\" fill=\"none\" stroke=\"currentColor\" stroke-linecap=\"butt\" stroke-linejoin=\"miter\" stroke-width=\"0.50\">\n",
       "\t<path d=\"M30.4,329.5 L35.6,329.5 L40.7,329.5 L45.9,329.5 L51.1,329.5 L56.3,329.5 L61.5,329.5 L66.6,329.5   L71.8,329.5 L77.0,329.5 L82.2,329.5 L87.3,329.5 L92.5,329.5 L97.7,329.5 L102.9,329.5 L108.1,329.5   L113.2,329.5 L118.4,329.5 L123.6,329.5 L128.8,329.5 L134.0,329.5 L139.1,329.5 L144.3,329.5 L149.5,329.5   L154.7,329.5 L159.9,329.5 L165.0,329.5 L170.2,329.5 L175.4,329.5 L180.6,329.5 L185.7,329.5 L190.9,329.5   L196.1,329.5 L201.3,329.5 L206.5,329.5 L211.6,329.5 L216.8,329.5 L222.0,329.5 L227.2,329.5 L232.4,329.5   L237.5,329.5 L242.7,329.5 L247.9,329.5 L253.1,329.5 L258.3,329.5 L263.4,329.5 L268.6,329.5 L273.8,329.5   L279.0,329.5 L284.2,329.5 L289.3,329.5 L294.5,329.5 L299.7,329.5 L304.9,329.5 L310.0,329.5 L315.2,329.5   L320.4,329.5 L325.6,329.5 L330.8,329.5 L335.9,329.5 L341.1,329.5 L346.3,329.5 L351.5,329.5 L356.7,329.5   L361.8,329.5 L367.0,329.5 L372.2,329.5 L377.4,329.5 L382.6,329.5 L387.7,329.5 L392.9,329.5 L398.1,329.5   L403.3,329.5 L408.4,329.5 L413.6,329.5 L418.8,329.5 L424.0,329.5 L429.2,329.5 L434.3,329.5 L439.5,329.5   L444.7,329.5 L449.9,329.5 L455.1,329.5 L460.2,329.5 L465.4,329.5 L470.6,329.5 L475.8,329.5 L481.0,329.5   L486.1,329.5 L491.3,329.5 L496.5,329.5 L501.7,329.5 L506.8,329.5 L512.0,329.5 L517.2,329.5 L522.4,329.5   L527.6,329.5 L532.7,329.5 L537.9,329.5 L543.1,329.5  \" stroke=\"rgb(  0, 255,   0)\" stroke-dasharray=\"5.0,5.0\"/></g>\n",
       "\t</g>\n",
       "<g color=\"#FFFFFF\" fill=\"none\" stroke=\"rgb(  0, 255,   0)\" stroke-linecap=\"butt\" stroke-linejoin=\"miter\" stroke-width=\"2.00\">\n",
       "</g>\n",
       "<g color=\"black\" fill=\"none\" stroke=\"currentColor\" stroke-linecap=\"butt\" stroke-linejoin=\"miter\" stroke-width=\"2.00\">\n",
       "</g>\n",
       "<g color=\"black\" fill=\"none\" stroke=\"black\" stroke-linecap=\"butt\" stroke-linejoin=\"miter\" stroke-width=\"0.50\">\n",
       "</g>\n",
       "<g color=\"black\" fill=\"none\" stroke=\"currentColor\" stroke-linecap=\"butt\" stroke-linejoin=\"miter\" stroke-width=\"0.50\">\n",
       "\t<path d=\"M25.2,396.0 L543.1,396.0  \" stroke=\"rgb( 38,  38,  38)\"/></g>\n",
       "<g color=\"black\" fill=\"none\" stroke=\"currentColor\" stroke-linecap=\"butt\" stroke-linejoin=\"miter\" stroke-width=\"0.50\">\n",
       "\t<path d=\"M25.2,11.3 L543.1,11.3  \" stroke=\"rgb( 38,  38,  38)\"/></g>\n",
       "<g color=\"black\" fill=\"none\" stroke=\"currentColor\" stroke-linecap=\"butt\" stroke-linejoin=\"miter\" stroke-width=\"0.50\">\n",
       "\t<path d=\"M25.2,396.0 L25.2,11.3  \" stroke=\"rgb( 38,  38,  38)\"/></g>\n",
       "<g color=\"black\" fill=\"none\" stroke=\"currentColor\" stroke-linecap=\"butt\" stroke-linejoin=\"miter\" stroke-width=\"0.50\">\n",
       "\t<path d=\"M543.1,396.0 L543.1,11.3  \" stroke=\"rgb( 38,  38,  38)\"/></g>\n",
       "<g color=\"black\" fill=\"none\" stroke=\"rgb( 38,  38,  38)\" stroke-linecap=\"butt\" stroke-linejoin=\"miter\" stroke-width=\"1.00\">\n",
       "</g>\n",
       "<g color=\"black\" fill=\"none\" stroke=\"currentColor\" stroke-linecap=\"butt\" stroke-linejoin=\"miter\" stroke-width=\"1.00\">\n",
       "</g>\n",
       "</g>\n",
       "</svg>"
      ],
      "text/plain": [
       "<IPython.core.display.SVG object>"
      ]
     },
     "metadata": {},
     "output_type": "display_data"
    }
   ],
   "source": [
    "values = [1 - sqrt(5);2];\n",
    "A = [1 1; 1 0];\n",
    "\n",
    "x = 1:100;\n",
    "val = zeros(1, 100);\n",
    "lim = ones(1,100) * (sqrt(5) + 1) / 2;\n",
    "expected = ones(1,100) * (1 - sqrt(5))/2;\n",
    "\n",
    "for n = x\n",
    "    values = A*values;\n",
    "    values = values/sqrt(values' * values);\n",
    "    val(n) = values(1)/values(2);\n",
    "endfor\n",
    "    \n",
    "plot(x, val, 'r', x, lim, '--b', x, expected, '--g');"
   ]
  }
 ],
 "metadata": {
  "kernelspec": {
   "display_name": "Octave",
   "language": "octave",
   "name": "octave"
  },
  "language_info": {
   "file_extension": ".m",
   "help_links": [
    {
     "text": "GNU Octave",
     "url": "https://www.gnu.org/software/octave/support.html"
    },
    {
     "text": "Octave Kernel",
     "url": "https://github.com/Calysto/octave_kernel"
    },
    {
     "text": "MetaKernel Magics",
     "url": "https://github.com/calysto/metakernel/blob/master/metakernel/magics/README.md"
    }
   ],
   "mimetype": "text/x-octave",
   "name": "octave",
   "version": "4.2.1"
  }
 },
 "nbformat": 4,
 "nbformat_minor": 2
}
