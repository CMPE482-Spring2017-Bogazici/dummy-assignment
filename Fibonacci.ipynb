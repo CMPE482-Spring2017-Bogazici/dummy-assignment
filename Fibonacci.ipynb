{
 "cells": [
  {
   "cell_type": "markdown",
   "metadata": {},
   "source": [
    "# Fibonacci Numbers [[1]](https://en.wikipedia.org/wiki/Fibonacci_number)"
   ]
  },
  {
   "cell_type": "markdown",
   "metadata": {},
   "source": [
    "In mathematics, the Fibonacci numbers are the numbers in the following integer sequence, called the Fibonacci sequence, and characterized by the fact that every number after the first two is the sum of the two preceding ones:\n",
    "\n",
    "$$ 0, 1, 1, 2, 3, 5, 8, 13, 21, 34, 55, 89, 144, \\cdots$$"
   ]
  },
  {
   "cell_type": "markdown",
   "metadata": {},
   "source": [
    "In mathematical terms, the sequence $F_n$ of Fibonacci numbers is defined by the recurrence relation:\n",
    "\n",
    "$$ F_{n}=F_{n-1}+F_{n-2} $$\n",
    "\n",
    "with seed values:\n",
    "$$ F_0 = 0 , F_1 = 1 $$\n",
    "\n"
   ]
  },
  {
   "cell_type": "markdown",
   "metadata": {},
   "source": [
    "In matrix notation this definition is equivalent to:\n",
    "\n",
    "\\begin{eqnarray}\n",
    "    \\begin{bmatrix}\n",
    "    F_1 \\\\\n",
    "    F_0\n",
    "    \\end{bmatrix}\n",
    "    & = &\n",
    "    \\begin{bmatrix}\n",
    "    1 \\\\\n",
    "    0\n",
    "    \\end{bmatrix} \\\\\n",
    "    \\begin{bmatrix}\n",
    "    F_{n+1} \\\\\n",
    "    F_n\n",
    "    \\end{bmatrix}\n",
    "    & = &\n",
    "    \\begin{bmatrix}\n",
    "    1 & 1 \\\\\n",
    "    1 & 0\n",
    "    \\end{bmatrix}\n",
    "    \\begin{bmatrix}\n",
    "    F_n \\\\\n",
    "    F_{n-1}\n",
    "    \\end{bmatrix}\n",
    "\\end{eqnarray}"
   ]
  },
  {
   "cell_type": "markdown",
   "metadata": {},
   "source": [
    "If we want to compute only the $n^{th}$ Fibonacci number, then the following identity is useful:\n",
    "\n",
    "\\begin{equation}\n",
    "    \\begin{bmatrix}\n",
    "    F_{n} \\\\\n",
    "    F_{n-1}\n",
    "    \\end{bmatrix} =\n",
    "    \\begin{bmatrix}\n",
    "    1 & 1 \\\\\n",
    "    1 & 0\n",
    "    \\end{bmatrix}^{n-1}\n",
    "    \\begin{bmatrix}\n",
    "    F_1 \\\\\n",
    "    F_0\n",
    "    \\end{bmatrix}\n",
    "\\end{equation}\n",
    "\n",
    "By using matrix exponentiation (for instance, calculating $M^8$ as $((M^2)^2)^2$ ), $F_{n}$ can be calculated in $O(log(n))$ time complexity. This algorithm is sometimes called **fast fibonacci transform**."
   ]
  },
  {
   "cell_type": "markdown",
   "metadata": {},
   "source": [
    "**Follow the instructions in the next sections. Feel free to create extra cells (for instance, you can try different values for $F_1$ and $F_0$).**"
   ]
  },
  {
   "cell_type": "markdown",
   "metadata": {},
   "source": [
    "### 1. Fast Fibonacci Transform Implementation"
   ]
  },
  {
   "cell_type": "markdown",
   "metadata": {},
   "source": [
    "Implement a function that returns $F_n$ as we described above (for this assignment we are not concerned about the efficiency of your implementation, i.e. you can use $M^n$ assuming octave does matrix exponentiation for you):"
   ]
  },
  {
   "cell_type": "code",
   "execution_count": 11,
   "metadata": {
    "collapsed": false,
    "scrolled": true
   },
   "outputs": [
    {
     "name": "stdout",
     "output_type": "stream",
     "text": [
      "ans =\n",
      "\n",
      "   13\n",
      "    8\n",
      "\n"
     ]
    }
   ],
   "source": [
    "function result = fibo( n )\n",
    "    fini=[1;0];\n",
    "    x=[1,1;1,0];\n",
    "    temp = x;\n",
    "    for i=1:n-1\n",
    "        temp=temp*x;\n",
    "    end\n",
    "    result = temp * fini;\n",
    "endfunction\n",
    "fibo(6)"
   ]
  },
  {
   "cell_type": "markdown",
   "metadata": {},
   "source": [
    "# 2. Plot $F_{n+1} / F_n$ ratio"
   ]
  },
  {
   "cell_type": "markdown",
   "metadata": {},
   "source": [
    "Initialize $F_0 = 0$ and $F_1 = 1$, then plot the $\\dfrac{F_{n+1}}{F_{n}}$ values for $ 1 \\leq n \\leq 100$. As $n \\to \\infty$, we expect $\\dfrac{F_{n+1}}{F_{n}} \\to \\dfrac{\\sqrt{5}+1}{2}$. "
   ]
  },
  {
   "cell_type": "code",
   "execution_count": 19,
   "metadata": {
    "collapsed": false
   },
   "outputs": [
    {
     "data": {
      "image/png": "[encoded data removed]",
      "text/plain": [
       "<IPython.core.display.Image object>"
      ]
     },
     "metadata": {},
     "output_type": "display_data"
    }
   ],
   "source": [
    "function result = fiboratio( n )\n",
    "    fini=[1;0];\n",
    "    x=[1,1;1,0];\n",
    "    temp = x;\n",
    "    for i=1:n-1\n",
    "        temp=temp*x;\n",
    "    end\n",
    "    res = temp * fini;\n",
    "    result=res(1)/res(2);\n",
    "endfunction\n",
    "b=ones(100);\n",
    "for i=1 : 100\n",
    "    x=fibo(i);\n",
    "    rat=fiboratio(i);\n",
    "    b(i)=rat;\n",
    "end\n",
    "y=linspace(0,100,100);\n",
    "plot(y,b);"
   ]
  },
  {
   "cell_type": "markdown",
   "metadata": {},
   "source": [
    "### 3. Plot $F_{n+1} / F_n$ ratio starting with $F_0 = 2$ and $F_1 = 1 - \\sqrt{5}$"
   ]
  },
  {
   "cell_type": "markdown",
   "metadata": {},
   "source": [
    "Initialize $F_0 = 2$ and $F_1 = F_1 = 1 - \\sqrt{5}$, then plot the $\\dfrac{F_{n+1}}{F_{n}}$ values for $ 1 \\leq n \\leq 100$. If we would represent $\\sqrt{5}$ exactly in our floating point arithmetic, then as $n \\to \\infty$, we expect  $\\dfrac{F_{n+1}}{F_{n}} \\to \\dfrac{1 - \\sqrt{5}}{2}$, but for the very large values of $n$, this ratio unexpectedly converges to $\\dfrac{\\sqrt{5} + 1}{2}$."
   ]
  },
  {
   "cell_type": "code",
   "execution_count": 7,
   "metadata": {
    "collapsed": false
   },
   "outputs": [
    {
     "name": "stdout",
     "output_type": "stream",
     "text": [
      "rat = -0.61803\n",
      "rat = -0.61803\n",
      "rat = -0.61803\n",
      "rat = -0.61803\n",
      "rat = -0.61803\n",
      "rat = -0.61803\n",
      "rat = -0.61803\n",
      "rat = -0.61803\n",
      "rat = -0.61803\n",
      "rat = -0.61803\n",
      "rat = -0.61803\n",
      "rat = -0.61803\n",
      "rat = -0.61803\n",
      "rat = -0.61803\n",
      "rat = -0.61803\n",
      "rat = -0.61803\n",
      "rat = -0.61803\n",
      "rat = -0.61803\n",
      "rat = -0.61803\n",
      "rat = -0.61803\n",
      "rat = -0.61803\n",
      "rat = -0.61803\n",
      "rat = -0.61803\n",
      "rat = -0.61803\n",
      "rat = -0.61803\n",
      "rat = -0.61804\n",
      "rat = -0.61802\n",
      "rat = -0.61806\n",
      "rat = -0.61796\n",
      "rat = -0.61822\n",
      "rat = -0.61754\n",
      "rat = -0.61932\n",
      "rat = -0.61466\n",
      "rat = -0.62690\n",
      "rat = -0.59514\n",
      "rat = -0.68026\n",
      "rat = -0.47006\n",
      "rat = -1.1275\n",
      "rat =  0.11323\n",
      "rat =  9.8287\n",
      "rat =  1.1014\n",
      "rat =  1.9085\n",
      "rat =  1.5240\n",
      "rat =  1.6566\n",
      "rat =  1.6041\n",
      "rat =  1.6234\n",
      "rat =  1.6153\n",
      "rat =  1.6200\n",
      "rat =  1.6167\n",
      "rat =  1.6185\n",
      "rat =  1.6178\n",
      "rat =  1.6181\n",
      "rat =  1.6180\n",
      "rat =  1.6184\n",
      "rat =  1.6169\n",
      "rat =  1.6185\n",
      "rat =  1.6186\n",
      "rat =  1.6178\n",
      "rat =  1.6181\n",
      "rat =  1.6173\n",
      "rat =  1.6179\n",
      "rat =  1.6186\n",
      "rat =  1.6185\n",
      "rat =  1.6179\n",
      "rat =  1.6176\n",
      "rat =  1.6182\n",
      "rat =  1.6187\n",
      "rat =  1.6178\n",
      "rat =  1.6181\n",
      "rat =  1.6180\n",
      "rat =  1.6171\n",
      "rat =  1.6189\n",
      "rat =  1.6170\n",
      "rat =  1.6193\n",
      "rat =  1.6170\n",
      "rat =  1.6184\n",
      "rat =  1.6179\n",
      "rat =  0.34573\n",
      "rat =  9.8488\n",
      "rat =  1.1015\n",
      "rat =  0.55091\n",
      "rat =  6.7977\n",
      "rat =  1.1471\n",
      "rat =  1.8723\n",
      "rat =  2.8838\n",
      "rat =  0.58928\n",
      "rat =  2.6976\n",
      "rat =  0.19349\n",
      "rat =  22.096\n",
      "rat =  1.7015\n",
      "rat =  0.54015\n",
      "rat =  2.8504\n",
      "rat =  3.0326\n",
      "rat = -0.12182\n",
      "rat = -14.576\n",
      "rat =  0.93090\n",
      "rat =  3.4168\n",
      "rat =  1.4426\n",
      "rat =  1.9010\n",
      "rat =  0.59937\n"
     ]
    }
   ],
   "source": [
    "function result = fiboratio( n )\n",
    "    fini=[1-sqrt(5);2];\n",
    "    x=[1,1;1,0];\n",
    "    temp = x;\n",
    "    for i=1:n-1\n",
    "        temp=temp*x;\n",
    "    end\n",
    "    res = temp * fini;\n",
    "    result=res(1)/res(2);\n",
    "endfunction\n",
    "b=ones(100);\n",
    "for i=1 : 100\n",
    "    rat=fiboratio(i)\n",
    "    b(i)=rat;\n",
    "end\n",
    "x=linspace)="
   ]
  },
  {
   "cell_type": "code",
   "execution_count": null,
   "metadata": {
    "collapsed": true
   },
   "outputs": [],
   "source": []
  }
 ],
 "metadata": {
  "kernelspec": {
   "display_name": "Octave",
   "language": "octave",
   "name": "octave"
  },
  "language_info": {
   "file_extension": ".m",
   "help_links": [
    {
     "text": "GNU Octave",
     "url": "https://www.gnu.org/software/octave/support.html"
    },
    {
     "text": "Octave Kernel",
     "url": "https://github.com/Calysto/octave_kernel"
    },
    {
     "text": "MetaKernel Magics",
     "url": "https://github.com/calysto/metakernel/blob/master/metakernel/magics/README.md"
    }
   ],
   "mimetype": "text/x-octave",
   "name": "octave",
   "version": "4.0.0"
  }
 },
 "nbformat": 4,
 "nbformat_minor": 2
}
