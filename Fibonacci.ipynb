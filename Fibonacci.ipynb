{
 "cells": [
  {
   "cell_type": "markdown",
   "metadata": {},
   "source": [
    "# Fibonacci Numbers [[1]](https://en.wikipedia.org/wiki/Fibonacci_number)"
   ]
  },
  {
   "cell_type": "markdown",
   "metadata": {},
   "source": [
    "In mathematics, the Fibonacci numbers are the numbers in the following integer sequence, called the Fibonacci sequence, and characterized by the fact that every number after the first two is the sum of the two preceding ones:\n",
    "\n",
    "$$ 0, 1, 1, 2, 3, 5, 8, 13, 21, 34, 55, 89, 144, \\cdots$$"
   ]
  },
  {
   "cell_type": "markdown",
   "metadata": {},
   "source": [
    "In mathematical terms, the sequence $F_n$ of Fibonacci numbers is defined by the recurrence relation:\n",
    "\n",
    "$$ F_{n}=F_{n-1}+F_{n-2} $$\n",
    "\n",
    "with seed values:\n",
    "$$ F_0 = 0 , F_1 = 1 $$\n",
    "\n"
   ]
  },
  {
   "cell_type": "markdown",
   "metadata": {},
   "source": [
    "In matrix notation this definition is equivalent to:\n",
    "\n",
    "\\begin{eqnarray}\n",
    "    \\begin{bmatrix}\n",
    "    F_1 \\\\\n",
    "    F_0\n",
    "    \\end{bmatrix}\n",
    "    & = &\n",
    "    \\begin{bmatrix}\n",
    "    1 \\\\\n",
    "    0\n",
    "    \\end{bmatrix} \\\\\n",
    "    \\begin{bmatrix}\n",
    "    F_{n+1} \\\\\n",
    "    F_n\n",
    "    \\end{bmatrix}\n",
    "    & = &\n",
    "    \\begin{bmatrix}\n",
    "    1 & 1 \\\\\n",
    "    1 & 0\n",
    "    \\end{bmatrix}\n",
    "    \\begin{bmatrix}\n",
    "    F_n \\\\\n",
    "    F_{n-1}\n",
    "    \\end{bmatrix}\n",
    "\\end{eqnarray}"
   ]
  },
  {
   "cell_type": "markdown",
   "metadata": {},
   "source": [
    "If we want to compute only the $n^{th}$ Fibonacci number, then the following identity is useful:\n",
    "\n",
    "\\begin{equation}\n",
    "    \\begin{bmatrix}\n",
    "    F_{n} \\\\\n",
    "    F_{n-1}\n",
    "    \\end{bmatrix} =\n",
    "    \\begin{bmatrix}\n",
    "    1 & 1 \\\\\n",
    "    1 & 0\n",
    "    \\end{bmatrix}^{n-1}\n",
    "    \\begin{bmatrix}\n",
    "    F_1 \\\\\n",
    "    F_0\n",
    "    \\end{bmatrix}\n",
    "\\end{equation}\n",
    "\n",
    "By using matrix exponentiation (for instance, calculating $M^8$ as $((M^2)^2)^2$ ), $F_{n}$ can be calculated in $O(log(n))$ time complexity. This algorithm is sometimes called **fast fibonacci transform**."
   ]
  },
  {
   "cell_type": "markdown",
   "metadata": {},
   "source": [
    "**Follow the instructions in the next sections. Feel free to create extra cells (for instance, you can try different values for $F_1$ and $F_0$).**"
   ]
  },
  {
   "cell_type": "markdown",
   "metadata": {},
   "source": [
    "### 1. Fast Fibonacci Transform Implementation"
   ]
  },
  {
   "cell_type": "markdown",
   "metadata": {},
   "source": [
    "Implement a function that returns $F_n$ as we described above (for this assignment we are not concerned about the efficiency of your implementation, i.e. you can use $M^n$ assuming octave does matrix exponentiation for you):"
   ]
  },
  {
   "cell_type": "code",
   "execution_count": 13,
   "metadata": {
    "collapsed": true
   },
   "outputs": [],
   "source": [
    "import numpy as np\n",
    "import math\n",
    "import matplotlib.pyplot as plt\n",
    "A = [[1.,1.],[1.,0.]]\n",
    "A=np.matrix(A)\n",
    "B=[[1.],[0.]]\n",
    "B=np.matrix(B)\n",
    "\n",
    "\n",
    "def fib(N):\n",
    "    return ((A**(N-1))*B)[0,0]"
   ]
  },
  {
   "cell_type": "markdown",
   "metadata": {},
   "source": [
    "### 2. Plot $F_{n+1} / F_n$ ratio"
   ]
  },
  {
   "cell_type": "markdown",
   "metadata": {},
   "source": [
    "Initialize $F_0 = 0$ and $F_1 = 1$, then plot the $\\dfrac{F_{n+1}}{F_{n}}$ values for $ 1 \\leq n \\leq 100$. As $n \\to \\infty$, we expect $\\dfrac{F_{n+1}}{F_{n}} \\to \\dfrac{\\sqrt{5}+1}{2}$. "
   ]
  },
  {
   "cell_type": "code",
   "execution_count": 14,
   "metadata": {
    "collapsed": false
   },
   "outputs": [
    {
     "data": {
      "image/png": "[encoded data removed]",
      "text/plain": [
       "<matplotlib.figure.Figure at 0x10fa7af50>"
      ]
     },
     "metadata": {},
     "output_type": "display_data"
    }
   ],
   "source": [
    "%matplotlib inline\n",
    "\n",
    "yt=[]\n",
    "\n",
    "\n",
    "for i in range(1,100):\n",
    "    yt.append(fib(i+1)/fib(i));\n",
    "\n",
    "plt.plot(range(len(yt)),yt)\n",
    "plt.show()\n",
    "\n"
   ]
  },
  {
   "cell_type": "markdown",
   "metadata": {},
   "source": [
    "### 3. Plot $F_{n+1} / F_n$ ratio starting with $F_0 = 2$ and $F_1 = 1 - \\sqrt{5}$"
   ]
  },
  {
   "cell_type": "markdown",
   "metadata": {},
   "source": [
    "Initialize $F_0 = 2$ and $F_1 = F_1 = 1 - \\sqrt{5}$, then plot the $\\dfrac{F_{n+1}}{F_{n}}$ values for $ 1 \\leq n \\leq 100$. If we would represent $\\sqrt{5}$ exactly in our floating point arithmetic, then as $n \\to \\infty$, we expect  $\\dfrac{F_{n+1}}{F_{n}} \\to \\dfrac{1 - \\sqrt{5}}{2}$, but for the very large values of $n$, this ratio unexpectedly converges to $\\dfrac{\\sqrt{5} + 1}{2}$."
   ]
  },
  {
   "cell_type": "code",
   "execution_count": 17,
   "metadata": {
    "collapsed": false
   },
   "outputs": [
    {
     "name": "stderr",
     "output_type": "stream",
     "text": [
      "/Users/bugrahansahin/anaconda/lib/python2.7/site-packages/ipykernel/__main__.py:10: RuntimeWarning: divide by zero encountered in double_scalars\n",
      "/Users/bugrahansahin/anaconda/lib/python2.7/site-packages/ipykernel/__main__.py:10: RuntimeWarning: invalid value encountered in double_scalars\n"
     ]
    },
    {
     "data": {
      "image/png": "[encoded data removed]",
      "text/plain": [
       "<matplotlib.figure.Figure at 0x11348bd90>"
      ]
     },
     "metadata": {},
     "output_type": "display_data"
    },
    {
     "data": {
      "image/png": "[encoded data removed]",
      "text/plain": [
       "<matplotlib.figure.Figure at 0x10fdf7510>"
      ]
     },
     "metadata": {},
     "output_type": "display_data"
    }
   ],
   "source": [
    "B=np.matrix([[1.-math.sqrt(5)],[2.]])\n",
    "\n",
    "yt=[]\n",
    "xt=[]\n",
    "\n",
    "a=B[0,0]\n",
    "b=B[1,0]\n",
    "\n",
    "for i in range(1,100):\n",
    "    yt.append(fib(i+1)/fib(i));\n",
    "    c=a+b;\n",
    "    xt.append(c/a)\n",
    "    b=a;\n",
    "    a=c;\n",
    "\n",
    "#this one gives wrong plot due to numerical overflow\n",
    "plt.plot(range(len(yt)),yt)\n",
    "plt.show()\n",
    "\n",
    "plt.plot(range(len(xt)),xt)\n",
    "plt.show()"
   ]
  },
  {
   "cell_type": "code",
   "execution_count": null,
   "metadata": {
    "collapsed": true
   },
   "outputs": [],
   "source": []
  }
 ],
 "metadata": {
  "kernelspec": {
   "display_name": "Python 2",
   "language": "python",
   "name": "python2"
  },
  "language_info": {
   "codemirror_mode": {
    "name": "ipython",
    "version": 2
   },
   "file_extension": ".py",
   "mimetype": "text/x-python",
   "name": "python",
   "nbconvert_exporter": "python",
   "pygments_lexer": "ipython2",
   "version": "2.7.13"
  }
 },
 "nbformat": 4,
 "nbformat_minor": 2
}
